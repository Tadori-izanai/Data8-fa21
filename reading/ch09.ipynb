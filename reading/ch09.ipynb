{
 "cells": [
  {
   "cell_type": "code",
   "execution_count": 12,
   "id": "7016597d",
   "metadata": {},
   "outputs": [],
   "source": [
    "from datascience import *\n",
    "import numpy as np\n",
    "\n",
    "import matplotlib\n",
    "matplotlib.use('Agg')\n",
    "%matplotlib inline\n",
    "import matplotlib.pyplot as plots\n",
    "plots.style.use('fivethirtyeight')"
   ]
  },
  {
   "cell_type": "markdown",
   "id": "0ccf4e7e",
   "metadata": {},
   "source": [
    "# 9 Randomness\n",
    "\n",
    "- `numpy` 中有子模块 `random`\n",
    "- `np.random.choice(array_name)`\n",
    "    - 随机返回数组 `array_name` 中的任一元素（等概率）\n",
    "    - 还可以添加加第二个参数，指定 roll 的次数（此时返回一个数组）"
   ]
  },
  {
   "cell_type": "code",
   "execution_count": 10,
   "id": "5d2cd7bc",
   "metadata": {},
   "outputs": [
    {
     "data": {
      "text/plain": [
       "'treatment'"
      ]
     },
     "execution_count": 10,
     "metadata": {},
     "output_type": "execute_result"
    }
   ],
   "source": [
    "two_groups = make_array('treatment', 'control')\n",
    "np.random.choice(two_groups)"
   ]
  },
  {
   "cell_type": "code",
   "execution_count": 11,
   "id": "08a7d632",
   "metadata": {},
   "outputs": [
    {
     "data": {
      "text/plain": [
       "array(['control', 'control', 'control', 'control', 'treatment',\n",
       "       'treatment', 'control', 'treatment', 'treatment', 'treatment'],\n",
       "      dtype='<U9')"
      ]
     },
     "execution_count": 11,
     "metadata": {},
     "output_type": "execute_result"
    }
   ],
   "source": [
    "np.random.choice(two_groups, 10)"
   ]
  },
  {
   "cell_type": "markdown",
   "id": "c3a61d9d",
   "metadata": {},
   "source": [
    "### 9.0.1 Booleans and Comparison\n",
    "\n",
    "- 有 Boolean values: `True`, `False`"
   ]
  },
  {
   "cell_type": "code",
   "execution_count": 13,
   "id": "7ab0fb4f",
   "metadata": {},
   "outputs": [
    {
     "data": {
      "text/plain": [
       "True"
      ]
     },
     "execution_count": 13,
     "metadata": {},
     "output_type": "execute_result"
    }
   ],
   "source": [
    "1 < 1 + 1 < 3"
   ]
  },
  {
   "cell_type": "markdown",
   "id": "2e743915",
   "metadata": {},
   "source": [
    "### 9.0.2 Comparing Strings"
   ]
  },
  {
   "cell_type": "code",
   "execution_count": 14,
   "id": "8c701322",
   "metadata": {},
   "outputs": [
    {
     "data": {
      "text/plain": [
       "True"
      ]
     },
     "execution_count": 14,
     "metadata": {},
     "output_type": "execute_result"
    }
   ],
   "source": [
    "'Dog' > 'Catastrophe' > 'Cat'"
   ]
  },
  {
   "cell_type": "markdown",
   "id": "7f3fe3f6",
   "metadata": {},
   "source": [
    "### 9.0.3 Comparing an Array and a Value\n",
    "\n",
    "- 逐个比较，返回 boolean 数组\n",
    "- `np.count_nonzero()` 返回一个数组中非零元素的个数（或 `True` 的个数）"
   ]
  },
  {
   "cell_type": "code",
   "execution_count": 15,
   "id": "05235f5d",
   "metadata": {},
   "outputs": [
    {
     "data": {
      "text/plain": [
       "array([False,  True, False,  True,  True])"
      ]
     },
     "execution_count": 15,
     "metadata": {},
     "output_type": "execute_result"
    }
   ],
   "source": [
    "tosses = make_array('Tails', 'Heads', 'Tails', 'Heads', 'Heads')\n",
    "tosses == 'Heads'"
   ]
  },
  {
   "cell_type": "code",
   "execution_count": 16,
   "id": "312fdeda",
   "metadata": {},
   "outputs": [
    {
     "data": {
      "text/plain": [
       "3"
      ]
     },
     "execution_count": 16,
     "metadata": {},
     "output_type": "execute_result"
    }
   ],
   "source": [
    "np.count_nonzero(tosses == 'Heads')"
   ]
  },
  {
   "cell_type": "markdown",
   "id": "6902c2bf",
   "metadata": {},
   "source": [
    "---\n",
    "\n",
    "## 9.1 Conditional Statements\n",
    "\n",
    "### 9.1.1 The General Form\n",
    "\n",
    "- multi-clause conditional statement 的一般形状\n",
    "    ```\n",
    "    if <if expression>:\n",
    "        <if body>\n",
    "    elif <elif expression 0>:\n",
    "        <elif body 0>\n",
    "    elif <elif expression 1>:\n",
    "        <elif body 1>\n",
    "    ...\n",
    "    else:\n",
    "        <else body>\n",
    "    ```\n"
   ]
  },
  {
   "cell_type": "code",
   "execution_count": 20,
   "id": "c77c2bfb",
   "metadata": {},
   "outputs": [
    {
     "name": "stdout",
     "output_type": "stream",
     "text": [
      "Negative\n",
      "Neither positive nor negative\n"
     ]
    }
   ],
   "source": [
    "def sign(x):\n",
    "    if x > 0:\n",
    "        return 'Positive'\n",
    "    elif x < 0:\n",
    "        return 'Negative'\n",
    "    else:\n",
    "        return 'Neither positive nor negative'\n",
    "    \n",
    "print(sign(-3))   # 没有定义 x < 0 的行为之前，这可以被运行，只是什么也没有返回\n",
    "print(sign(0))"
   ]
  },
  {
   "cell_type": "markdown",
   "id": "b4c2fbc2",
   "metadata": {},
   "source": [
    "---\n",
    "\n",
    "## 9.2 Iteration\n",
    "\n",
    "- for 语句"
   ]
  },
  {
   "cell_type": "code",
   "execution_count": 22,
   "id": "375a3066",
   "metadata": {},
   "outputs": [
    {
     "name": "stdout",
     "output_type": "stream",
     "text": [
      "cat\n",
      "dog\n",
      "rabbit\n"
     ]
    }
   ],
   "source": [
    "for animal in make_array('cat', 'dog', 'rabbit'):\n",
    "    print(animal)"
   ]
  },
  {
   "cell_type": "code",
   "execution_count": 23,
   "id": "0f321958",
   "metadata": {},
   "outputs": [
    {
     "name": "stdout",
     "output_type": "stream",
     "text": [
      "cat\n",
      "dog\n",
      "rabbit\n"
     ]
    }
   ],
   "source": [
    "# 上一个 for 语句等价于\n",
    "animal = make_array('cat', 'dog', 'rabbit').item(0)\n",
    "print(animal)\n",
    "animal = make_array('cat', 'dog', 'rabbit').item(1)\n",
    "print(animal)\n",
    "animal = make_array('cat', 'dog', 'rabbit').item(2)\n",
    "print(animal)"
   ]
  },
  {
   "cell_type": "code",
   "execution_count": 29,
   "id": "d1380820",
   "metadata": {},
   "outputs": [
    {
     "name": "stdout",
     "output_type": "stream",
     "text": [
      "-1\n",
      "-1\n",
      "0\n",
      "1\n",
      "0\n"
     ]
    }
   ],
   "source": [
    "# 例：simulating the results of betting five times on the die\n",
    "def bet_on_one_roll():\n",
    "    x = np.random.choice(np.arange(1, 7))\n",
    "    if x <= 2:\n",
    "        return -1\n",
    "    elif x <= 4:\n",
    "        return 0\n",
    "    elif x <=6:\n",
    "        return 1\n",
    "    \n",
    "# roll 5 次\n",
    "for i in np.arange(5):\n",
    "    print(bet_on_one_roll())"
   ]
  },
  {
   "cell_type": "markdown",
   "id": "13c03093",
   "metadata": {},
   "source": [
    "### 9.2.1 Augmenting Arrays\n",
    "\n",
    "- `np.append(array_name, value)`\n",
    "    - 将 item `value` 添加到数组 `array_name` 末尾，返回一个 array\n",
    "    - 保持 `array_name` 不变"
   ]
  },
  {
   "cell_type": "code",
   "execution_count": 33,
   "id": "c87f5a38",
   "metadata": {},
   "outputs": [
    {
     "data": {
      "text/plain": [
       "array(['Cat', 'Dog', 'Another Pet'], dtype='<U11')"
      ]
     },
     "execution_count": 33,
     "metadata": {},
     "output_type": "execute_result"
    }
   ],
   "source": [
    "pets = make_array('Cat', 'Dog')\n",
    "np.append(pets, 'Another Pet')"
   ]
  },
  {
   "cell_type": "code",
   "execution_count": 34,
   "id": "4044e567",
   "metadata": {},
   "outputs": [
    {
     "data": {
      "text/plain": [
       "array(['Cat', 'Dog'], dtype='<U3')"
      ]
     },
     "execution_count": 34,
     "metadata": {},
     "output_type": "execute_result"
    }
   ],
   "source": [
    "pets"
   ]
  },
  {
   "cell_type": "markdown",
   "id": "836de9b9",
   "metadata": {},
   "source": [
    "### 9.2.2 Examples"
   ]
  },
  {
   "cell_type": "code",
   "execution_count": 44,
   "id": "439a3bae",
   "metadata": {},
   "outputs": [
    {
     "data": {
      "text/plain": [
       "array([-1.,  0., -1., -1.,  1.])"
      ]
     },
     "execution_count": 44,
     "metadata": {},
     "output_type": "execute_result"
    }
   ],
   "source": [
    "# Example 1: Betting on 5 Rolls\n",
    "outcomes = make_array()\n",
    "for i in np.arange(5):\n",
    "    outcome_of_bet = bet_on_one_roll()\n",
    "    outcomes = np.append(outcomes, outcome_of_bet)\n",
    "outcomes"
   ]
  },
  {
   "cell_type": "code",
   "execution_count": 45,
   "id": "110a26de",
   "metadata": {},
   "outputs": [
    {
     "data": {
      "text/plain": [
       "4"
      ]
     },
     "execution_count": 45,
     "metadata": {},
     "output_type": "execute_result"
    }
   ],
   "source": [
    "np.count_nonzero(outcomes)"
   ]
  },
  {
   "cell_type": "code",
   "execution_count": 47,
   "id": "32db3714",
   "metadata": {},
   "outputs": [
    {
     "data": {
      "text/plain": [
       "300"
      ]
     },
     "execution_count": 47,
     "metadata": {},
     "output_type": "execute_result"
    }
   ],
   "source": [
    "# Example 2: Betting on 300 Rolls\n",
    "outcomes = make_array()\n",
    "for i in np.arange(300):\n",
    "    outcome_of_bet = bet_on_one_roll()\n",
    "    outcomes = np.append(outcomes, outcome_of_bet)\n",
    "len(outcomes)"
   ]
  },
  {
   "cell_type": "code",
   "execution_count": 58,
   "id": "893dbd70",
   "metadata": {},
   "outputs": [
    {
     "data": {
      "image/png": "[encoded data removed]",
      "text/plain": [
       "<Figure size 432x288 with 1 Axes>"
      ]
     },
     "metadata": {},
     "output_type": "display_data"
    }
   ],
   "source": [
    "# 考虑打标统计\n",
    "outcome_tbl = Table().with_column(\n",
    "    'Outcome', outcomes\n",
    ")\n",
    "outcome_tbl.group('Outcome').barh(0)"
   ]
  },
  {
   "cell_type": "markdown",
   "id": "595f56ab",
   "metadata": {},
   "source": [
    "---\n",
    "\n",
    "## 9.3 Simulation\n",
    "\n",
    "### 9.3.2 Example: Number of Heads in 100 Tosses"
   ]
  },
  {
   "cell_type": "code",
   "execution_count": 68,
   "id": "62edd7e3",
   "metadata": {},
   "outputs": [
    {
     "data": {
      "text/plain": [
       "20000"
      ]
     },
     "execution_count": 68,
     "metadata": {},
     "output_type": "execute_result"
    }
   ],
   "source": [
    "coin = make_array('Heads', 'Tails')\n",
    "\n",
    "def one_simulated_value():\n",
    "    outcomes = np.random.choice(coin, 100)\n",
    "    return np.count_nonzero(outcomes == 'Heads')\n",
    "\n",
    "num_repetitions = 20000\n",
    "heads = make_array()      # 先造一个空数组用于存放结果\n",
    "for i in np.arange(num_repetitions):\n",
    "    new_value = one_simulated_value()\n",
    "    heads = np.append(heads, new_value)\n",
    "    \n",
    "len(heads)  # check 一下"
   ]
  },
  {
   "cell_type": "code",
   "execution_count": 71,
   "id": "66ec4a0d",
   "metadata": {},
   "outputs": [
    {
     "data": {
      "text/html": [
       "<table border=\"1\" class=\"dataframe\">\n",
       "    <thead>\n",
       "        <tr>\n",
       "            <th>Repetition</th> <th>Number of Heads</th>\n",
       "        </tr>\n",
       "    </thead>\n",
       "    <tbody>\n",
       "        <tr>\n",
       "            <td>1         </td> <td>53             </td>\n",
       "        </tr>\n",
       "        <tr>\n",
       "            <td>2         </td> <td>50             </td>\n",
       "        </tr>\n",
       "        <tr>\n",
       "            <td>3         </td> <td>43             </td>\n",
       "        </tr>\n",
       "    </tbody>\n",
       "</table>\n",
       "<p>... (19997 rows omitted)</p>"
      ],
      "text/plain": [
       "<IPython.core.display.HTML object>"
      ]
     },
     "metadata": {},
     "output_type": "display_data"
    },
    {
     "data": {
      "image/png": "[encoded data removed]",
      "text/plain": [
       "<Figure size 432x288 with 1 Axes>"
      ]
     },
     "metadata": {},
     "output_type": "display_data"
    }
   ],
   "source": [
    "# 考虑将模拟的结果放入一表\n",
    "simulation_results = Table().with_columns(\n",
    "    'Repetition', np.arange(1, num_repetitions + 1),\n",
    "    'Number of Heads', heads\n",
    ")\n",
    "simulation_results.show(3)\n",
    "\n",
    "# 作出直方图\n",
    "simulation_results.hist('Number of Heads', bins = np.arange(30.5, 69.6, 1))"
   ]
  },
  {
   "cell_type": "markdown",
   "id": "689fc150",
   "metadata": {},
   "source": [
    "### 9.3.3 Example: Moves in Monopoly\n",
    "\n",
    "- 来模拟两个筛子"
   ]
  },
  {
   "cell_type": "code",
   "execution_count": 73,
   "id": "1c35dd36",
   "metadata": {},
   "outputs": [
    {
     "data": {
      "text/plain": [
       "10"
      ]
     },
     "execution_count": 73,
     "metadata": {},
     "output_type": "execute_result"
    }
   ],
   "source": [
    "# 模拟 1 次\n",
    "die = np.arange(1, 7)\n",
    "sum(np.random.choice(die, 2))"
   ]
  },
  {
   "cell_type": "code",
   "execution_count": 76,
   "id": "279a1f11",
   "metadata": {},
   "outputs": [
    {
     "data": {
      "image/png": "[encoded data removed]",
      "text/plain": [
       "<Figure size 432x288 with 1 Axes>"
      ]
     },
     "metadata": {},
     "output_type": "display_data"
    }
   ],
   "source": [
    "# 模拟 10000 次\n",
    "def one_simulated_move():\n",
    "    return sum(np.random.choice(die, 2))\n",
    "\n",
    "num_repetitions = 10000\n",
    "moves = make_array()\n",
    "for i in np.arange(num_repetitions):\n",
    "    new_move = one_simulated_move()\n",
    "    moves = np.append(moves, new_move)\n",
    "    \n",
    "results = Table().with_columns(\n",
    "    'Repetition', np.arange(1, num_repetitions + 1),\n",
    "    'Sum of Two Rolls', moves\n",
    ")\n",
    "results.hist('Sum of Two Rolls', bins = np.arange(1.5, 12.6, 1))"
   ]
  },
  {
   "cell_type": "markdown",
   "id": "479cd35f",
   "metadata": {},
   "source": []
  },
  {
   "cell_type": "markdown",
   "id": "06255899",
   "metadata": {},
   "source": []
  },
  {
   "cell_type": "markdown",
   "id": "69c60e70",
   "metadata": {},
   "source": []
  },
  {
   "cell_type": "markdown",
   "id": "75c91107",
   "metadata": {},
   "source": []
  },
  {
   "cell_type": "markdown",
   "id": "791ad3cd",
   "metadata": {},
   "source": []
  },
  {
   "cell_type": "markdown",
   "id": "d08ade32",
   "metadata": {},
   "source": []
  },
  {
   "cell_type": "markdown",
   "id": "6c114c5a",
   "metadata": {},
   "source": []
  },
  {
   "cell_type": "markdown",
   "id": "cef43794",
   "metadata": {},
   "source": []
  },
  {
   "cell_type": "markdown",
   "id": "5a559e0b",
   "metadata": {},
   "source": []
  },
  {
   "cell_type": "markdown",
   "id": "9c5c1444",
   "metadata": {},
   "source": [
    "---\n",
    "\n",
    "## EX\n",
    "\n",
    "### hw05\n",
    "\n",
    "- If you want to apply a function that takes in multiple arguments, you can pass multiple column names as arguments in `tbl.apply()`. The column values will be passed into the corresponding arguments of the function. \n",
    "- You can use `tbl.row(n)` to get the nth row of a table. `row.item(\"column_name\")` will allow you to select the element that corresponds to `column_name` in a particular row. \n",
    "- When you only pass a function name and no column labels through `tbl.apply()`, the function gets applied to every row in `tbl`\n",
    "\n",
    "### lab05\n",
    "\n",
    "- Table method `sample()` 从表中 roll 特定的列数，例如 \n",
    "    ```python\n",
    "    salary_data.sample(5)\n",
    "    ```\n",
    "    - 默认参数为 tbl 的 `num_rows`\n",
    "    - 默认情况从表中抽取、替换 （允许重复）\n",
    "    - 若不替换则添加可选参数 `with_replacement=False` （不允许重复）\n"
   ]
  },
  {
   "cell_type": "code",
   "execution_count": 86,
   "id": "da607f38",
   "metadata": {},
   "outputs": [
    {
     "data": {
      "text/html": [
       "<table border=\"1\" class=\"dataframe\">\n",
       "    <thead>\n",
       "        <tr>\n",
       "            <th>value</th>\n",
       "        </tr>\n",
       "    </thead>\n",
       "    <tbody>\n",
       "        <tr>\n",
       "            <td>2    </td>\n",
       "        </tr>\n",
       "        <tr>\n",
       "            <td>4    </td>\n",
       "        </tr>\n",
       "        <tr>\n",
       "            <td>4    </td>\n",
       "        </tr>\n",
       "        <tr>\n",
       "            <td>2    </td>\n",
       "        </tr>\n",
       "    </tbody>\n",
       "</table>"
      ],
      "text/plain": [
       "<IPython.core.display.HTML object>"
      ]
     },
     "metadata": {},
     "output_type": "display_data"
    },
    {
     "data": {
      "text/html": [
       "<table border=\"1\" class=\"dataframe\">\n",
       "    <thead>\n",
       "        <tr>\n",
       "            <th>value</th>\n",
       "        </tr>\n",
       "    </thead>\n",
       "    <tbody>\n",
       "        <tr>\n",
       "            <td>2    </td>\n",
       "        </tr>\n",
       "        <tr>\n",
       "            <td>5    </td>\n",
       "        </tr>\n",
       "        <tr>\n",
       "            <td>2    </td>\n",
       "        </tr>\n",
       "        <tr>\n",
       "            <td>4    </td>\n",
       "        </tr>\n",
       "        <tr>\n",
       "            <td>5    </td>\n",
       "        </tr>\n",
       "    </tbody>\n",
       "</table>"
      ],
      "text/plain": [
       "<IPython.core.display.HTML object>"
      ]
     },
     "metadata": {},
     "output_type": "display_data"
    },
    {
     "data": {
      "text/html": [
       "<table border=\"1\" class=\"dataframe\">\n",
       "    <thead>\n",
       "        <tr>\n",
       "            <th>value</th>\n",
       "        </tr>\n",
       "    </thead>\n",
       "    <tbody>\n",
       "        <tr>\n",
       "            <td>4    </td>\n",
       "        </tr>\n",
       "        <tr>\n",
       "            <td>2    </td>\n",
       "        </tr>\n",
       "        <tr>\n",
       "            <td>1    </td>\n",
       "        </tr>\n",
       "        <tr>\n",
       "            <td>5    </td>\n",
       "        </tr>\n",
       "        <tr>\n",
       "            <td>3    </td>\n",
       "        </tr>\n",
       "    </tbody>\n",
       "</table>"
      ],
      "text/plain": [
       "<IPython.core.display.HTML object>"
      ]
     },
     "metadata": {},
     "output_type": "display_data"
    }
   ],
   "source": [
    "test_tbl = Table().with_column('value', make_array(1, 2, 3, 4, 5))\n",
    "test_tbl.sample(4).show()\n",
    "test_tbl.sample().show()\n",
    "test_tbl.sample(with_replacement=False).show()"
   ]
  },
  {
   "cell_type": "code",
   "execution_count": null,
   "id": "88ac45c3",
   "metadata": {},
   "outputs": [],
   "source": []
  }
 ],
 "metadata": {
  "kernelspec": {
   "display_name": "Python 3 (ipykernel)",
   "language": "python",
   "name": "python3"
  },
  "language_info": {
   "codemirror_mode": {
    "name": "ipython",
    "version": 3
   },
   "file_extension": ".py",
   "mimetype": "text/x-python",
   "name": "python",
   "nbconvert_exporter": "python",
   "pygments_lexer": "ipython3",
   "version": "3.9.6"
  },
  "toc": {
   "base_numbering": 1,
   "nav_menu": {},
   "number_sections": false,
   "sideBar": true,
   "skip_h1_title": false,
   "title_cell": "Table of Contents",
   "title_sidebar": "Contents",
   "toc_cell": false,
   "toc_position": {},
   "toc_section_display": true,
   "toc_window_display": true
  }
 },
 "nbformat": 4,
 "nbformat_minor": 5
}
