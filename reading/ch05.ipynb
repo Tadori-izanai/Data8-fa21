{
 "cells": [
  {
   "cell_type": "markdown",
   "id": "c2e1c9c5",
   "metadata": {},
   "source": [
    "# 5 Sequences\n",
    "\n",
    "- 使用 `make_array()` 来将多个值放入一个数组中 (先 import datascience)"
   ]
  },
  {
   "cell_type": "code",
   "execution_count": 1,
   "id": "f0253100",
   "metadata": {},
   "outputs": [
    {
     "data": {
      "text/plain": [
       "array([13.6  , 14.387, 14.585, 15.164])"
      ]
     },
     "execution_count": 1,
     "metadata": {},
     "output_type": "execute_result"
    }
   ],
   "source": [
    "from datascience import *\n",
    "\n",
    "baseline_high = 14.48\n",
    "highs = make_array(\n",
    "    baseline_high - 0.880, baseline_high - 0.093, baseline_high + 0.105, baseline_high + 0.684\n",
    ")\n",
    "highs"
   ]
  },
  {
   "cell_type": "markdown",
   "id": "aeb9605d",
   "metadata": {},
   "source": [
    "- 可以使用 `sum()` 计算一个 collection 的和\n",
    "- 可以使用 `len()` 计算一个 collection 的长度"
   ]
  },
  {
   "cell_type": "code",
   "execution_count": 2,
   "id": "7b9339cd",
   "metadata": {},
   "outputs": [
    {
     "data": {
      "text/plain": [
       "14.434000000000001"
      ]
     },
     "execution_count": 2,
     "metadata": {},
     "output_type": "execute_result"
    }
   ],
   "source": [
    "sum(highs) / len(highs)"
   ]
  },
  {
   "cell_type": "markdown",
   "id": "74fa4584",
   "metadata": {},
   "source": [
    "---\n",
    "\n",
    "## 5.1 Arrays\n",
    "\n",
    "There are many kinds of collections in Python, we will work primarily with arrays in this class.\n",
    "\n",
    "- Arrays 也可包含其他类型的值，但是一个 array 只能包含一种数据类型"
   ]
  },
  {
   "cell_type": "code",
   "execution_count": 3,
   "id": "6eaf1e16",
   "metadata": {},
   "outputs": [
    {
     "data": {
      "text/plain": [
       "array(['noun', 'pronoun', 'verb', 'adverb', 'adjective', 'conjunction',\n",
       "       'preposition', 'interjection'], dtype='<U12')"
      ]
     },
     "execution_count": 3,
     "metadata": {},
     "output_type": "execute_result"
    }
   ],
   "source": [
    "english_parts_of_speech = make_array(\n",
    "    \"noun\", \"pronoun\", \"verb\", \"adverb\", \"adjective\", \"conjunction\", \"preposition\", \"interjection\"\n",
    ")\n",
    "english_parts_of_speech"
   ]
  },
  {
   "cell_type": "markdown",
   "id": "30b5b1ec",
   "metadata": {},
   "source": [
    "- Arrays 可以像一个向量一样进行运算 (类似 Matlab)"
   ]
  },
  {
   "cell_type": "code",
   "execution_count": 4,
   "id": "ac11513c",
   "metadata": {},
   "outputs": [
    {
     "data": {
      "text/plain": [
       "array([56.48  , 57.8966, 58.253 , 59.2952])"
      ]
     },
     "execution_count": 4,
     "metadata": {},
     "output_type": "execute_result"
    }
   ],
   "source": [
    "(9/5) * highs + 32  # 将摄氏度转换为华氏度"
   ]
  },
  {
   "cell_type": "markdown",
   "id": "6fbce9e2",
   "metadata": {},
   "source": [
    "- Arrows 也可以调用方法，如 `sum()`\n",
    "- Arrows 与 Table 类似，也存在 property, 如 `size`"
   ]
  },
  {
   "cell_type": "code",
   "execution_count": 5,
   "id": "c7f9e9d8",
   "metadata": {},
   "outputs": [
    {
     "name": "stdout",
     "output_type": "stream",
     "text": [
      "4\n",
      "57.736000000000004\n",
      "14.434000000000001\n"
     ]
    }
   ],
   "source": [
    "print(highs.size)\n",
    "print(highs.sum())\n",
    "print(highs.mean())"
   ]
  },
  {
   "cell_type": "markdown",
   "id": "d5a74245",
   "metadata": {},
   "source": [
    "---\n",
    "\n",
    "### 5.1.1 Functions on Arrays\n",
    "\n",
    "- `numpy` 包 (程序中缩写为 `np`) 提供了便捷强大的函数，用于创建和操作数组\n",
    "- [full Numpy reference](https://numpy.org/doc/stable/reference/)\n",
    "-  a small subset, commonly used for data processing applications, are grouped into different packages within np."
   ]
  },
  {
   "cell_type": "code",
   "execution_count": 6,
   "id": "40df100d",
   "metadata": {},
   "outputs": [
    {
     "data": {
      "text/plain": [
       "array([0.787, 0.198, 0.579])"
      ]
     },
     "execution_count": 6,
     "metadata": {},
     "output_type": "execute_result"
    }
   ],
   "source": [
    "import numpy as np\n",
    "np.diff(highs)  # 求差分 (后一元素减去前一元素，数组 size--)"
   ]
  },
  {
   "cell_type": "markdown",
   "id": "1094c225",
   "metadata": {},
   "source": [
    "#### np List for Reference\n",
    "\n",
    "- Each of these functions takes an array as an argument and returns a single value.\n",
    "\n",
    "    | **Function**       | Description                                                  |\n",
    "    |:------------------ |:------------------------------------------------------------ |\n",
    "    | `np.prod`          | Multiply all elements together                               |\n",
    "    | `np.sum`           | Add all elements together                                    |\n",
    "    | `np.all`           | Test whether all elements are true values (non-zero numbers are true) |\n",
    "    | `np.any`           | Test whether any elements are true values (non-zero numbers are true) |\n",
    "    | `np.count_nonzero` | Count the number of non-zero elements                        |\n",
    "\n",
    "- Each of these functions takes an array as an argument and returns an array of values.\n",
    "\n",
    "    | **Function** | Description                                                  |\n",
    "    |:------------ |:------------------------------------------------------------ |\n",
    "    | `np.diff`    | Difference between adjacent elements                         |\n",
    "    | `np.round`   | Round each number to the nearest integer (whole number)      |\n",
    "    | `np.cumprod` | A cumulative product: for each element, multiply all elements so far |\n",
    "    | `np.cumsum`  | A cumulative sum: for each element, add all elements so far  |\n",
    "    | `np.exp`     | Exponentiate each element                                    |\n",
    "    | `np.log`     | Take the natural logarithm of each element                   |\n",
    "    | `np.sqrt`    | Take the square root of each element                         |\n",
    "    | `np.sort`    | Sort the elements                                            |\n",
    "\n",
    "- Each of these functions takes an array of strings and returns an array.\n",
    "\t\n",
    "    | **Function**        | **Description**                                              |\n",
    "    |:------------------- |:------------------------------------------------------------ |\n",
    "    | `np.char.lower`     | Lowercase each element                                       |\n",
    "    | `np.char.upper`     | Uppercase each element                                       |\n",
    "    | `np.char.strip`     | Remove spaces at the beginning or end of each element        |\n",
    "    | `np.char.isalpha`   | Whether each element is only letters (no numbers or symbols) |\n",
    "    | `np.char.isnumeric` | Whether each element is only numeric (no letters)            |\n",
    "\n",
    "- Each of these functions takes both an array of strings and a *search string*; each returns an array.\n",
    "\n",
    "    | **Function**         | **Description**                                              |\n",
    "    |:-------------------- |:------------------------------------------------------------ |\n",
    "    | `np.char.count`      | Count the number of times a search string appears among the elements of an array |\n",
    "    | `np.char.find`       | The position within each element that a search string is found first |\n",
    "    | `np.char.rfind`      | The position within each element that a search string is found last |\n",
    "    | `np.char.startswith` | Whether each element starts with the search string           |\n"
   ]
  },
  {
   "cell_type": "markdown",
   "id": "52e39a0d",
   "metadata": {},
   "source": [
    "---\n",
    "\n",
    "## 5.2 Ranges\n",
    "\n",
    "- Def. A **range** is an array of numbers in increasing or decreasing order, each separated by a regular interval.\n",
    "- ranges 使用 `np.arange()` 来定义\n",
    "    - 其接受 1, 或 2, 或 3\n",
    "    - 接受 1 个参数: 该参数作为 `end`, 假定了 `start = 0`, `step = 1`\n",
    "    - 接受 2 个参数: 分别作为 `start` 和 `end`, 假定了 `step = 1`\n",
    "    - 接受 3 个参数: 分别作为 `start`, `end`, `step`\n",
    "    "
   ]
  },
  {
   "cell_type": "code",
   "execution_count": 26,
   "id": "fbee71a3",
   "metadata": {},
   "outputs": [
    {
     "data": {
      "text/plain": [
       "array([0, 1, 2, 3, 4])"
      ]
     },
     "execution_count": 26,
     "metadata": {},
     "output_type": "execute_result"
    }
   ],
   "source": [
    "np.arange(5)     # 注意只到 4 (end 不算在范围内)"
   ]
  },
  {
   "cell_type": "code",
   "execution_count": 8,
   "id": "fd6f7869",
   "metadata": {},
   "outputs": [
    {
     "data": {
      "text/plain": [
       "array([3, 4, 5, 6, 7, 8])"
      ]
     },
     "execution_count": 8,
     "metadata": {},
     "output_type": "execute_result"
    }
   ],
   "source": [
    "np.arange(3, 9)  # 注意只到 8"
   ]
  },
  {
   "cell_type": "code",
   "execution_count": 9,
   "id": "5c4cf113",
   "metadata": {},
   "outputs": [
    {
     "data": {
      "text/plain": [
       "array([ 3,  8, 13, 18, 23, 28])"
      ]
     },
     "execution_count": 9,
     "metadata": {},
     "output_type": "execute_result"
    }
   ],
   "source": [
    "np.arange(3, 30, 5)"
   ]
  },
  {
   "cell_type": "code",
   "execution_count": 27,
   "id": "0d3d0832",
   "metadata": {},
   "outputs": [
    {
     "data": {
      "text/plain": [
       "array([ 1.5,  1. ,  0.5,  0. , -0.5, -1. , -1.5])"
      ]
     },
     "execution_count": 27,
     "metadata": {},
     "output_type": "execute_result"
    }
   ],
   "source": [
    "np.arange(1.5, -2, -0.5)    # step 可以是负数、浮点数, e.g. -0.5\n",
    "# 注意只到 -1.5"
   ]
  },
  {
   "cell_type": "markdown",
   "id": "1f24c235",
   "metadata": {},
   "source": [
    "### 5.2.1 Examples: Leibniz's formula for $\\pi$\n",
    "\n",
    "考虑利用以下公式近似计算 $\\pi$\n",
    "$$\n",
    "\\pi = 4 \\left( 1 - \\frac{1}{3} + \\frac{1}{5} - \\frac{1}{7} + \\frac{1}{9} - \\frac{1}{11} + \\cdots \\right)\n",
    "$$"
   ]
  },
  {
   "cell_type": "code",
   "execution_count": 15,
   "id": "bc41bf67",
   "metadata": {},
   "outputs": [
    {
     "data": {
      "text/plain": [
       "3.1413926535917955"
      ]
     },
     "execution_count": 15,
     "metadata": {},
     "output_type": "execute_result"
    }
   ],
   "source": [
    "positive_term_denominators = np.arange(1, 10000, 4)\n",
    "positive_terms = 1 / positive_term_denominators      # 这里区别于 Matlab, 除号直接是 ./\n",
    "negative_terms = 1 / (positive_term_denominators + 2)\n",
    "approx_to_pi = 4 * (sum(positive_terms) - sum(negative_terms))\n",
    "approx_to_pi"
   ]
  },
  {
   "cell_type": "markdown",
   "id": "2552a5d1",
   "metadata": {},
   "source": [
    "---\n",
    "\n",
    "## 5.3 More on Arrays\n",
    "\n",
    "- 如果算术运算符作用于两个相同 size 的数组，则运算结果是对两个数组中对应元素的运算\n",
    "    - 例如 `+` `-` `*` `/`"
   ]
  },
  {
   "cell_type": "code",
   "execution_count": 18,
   "id": "1593c6e2",
   "metadata": {},
   "outputs": [
    {
     "data": {
      "text/plain": [
       "array([11.472, 12.016, 11.711, 11.436])"
      ]
     },
     "execution_count": 18,
     "metadata": {},
     "output_type": "execute_result"
    }
   ],
   "source": [
    "baseline_low = 3.00\n",
    "lows = make_array(baseline_low - 0.872, baseline_low - 0.629,\n",
    "                  baseline_low - 0.126, baseline_low + 0.728)\n",
    "make_array(\n",
    "    highs.item(0) - lows.item(0),\n",
    "    highs.item(1) - lows.item(1),\n",
    "    highs.item(2) - lows.item(2),\n",
    "    highs.item(3) - lows.item(3),\n",
    ")"
   ]
  },
  {
   "cell_type": "code",
   "execution_count": 19,
   "id": "1d33c82c",
   "metadata": {},
   "outputs": [
    {
     "data": {
      "text/plain": [
       "array([11.472, 12.016, 11.711, 11.436])"
      ]
     },
     "execution_count": 19,
     "metadata": {},
     "output_type": "execute_result"
    }
   ],
   "source": [
    "highs - lows # 对比上面的结果"
   ]
  },
  {
   "cell_type": "markdown",
   "id": "a7d480bb",
   "metadata": {},
   "source": [
    "### 5.3.2 Example: Wallis' Formula for $\\pi$\n",
    "\n",
    "$\\pi$ 也可表示为一个 infinite product\n",
    "$$\n",
    "\\pi = 2 \\left( \\frac{2}{1} \\cdot \\frac{2}{3} \\cdot \\frac{4}{3} \\cdot \\frac{4}{5} \\cdot \\frac{6}{5} \\cdot \\frac{6}{7}\n",
    "\\cdot \\cdots \\right)\n",
    "\\approx 2 \\left( \\frac{2}{1} \\cdot \\frac{4}{3} \\cdot \\frac{6}{5} \\cdot \\cdots \\cdot \\frac{1,000,000}{999,999} \\right)\n",
    "\\cdot \\left( \\frac{2}{3} \\cdot \\frac{4}{5} \\cdot \\frac{6}{7}\n",
    "\\cdot \\cdots \\cdot \\frac{1,000,000}{1,000,001} \\right)\n",
    "$$"
   ]
  },
  {
   "cell_type": "code",
   "execution_count": 21,
   "id": "08f619c9",
   "metadata": {},
   "outputs": [
    {
     "data": {
      "text/plain": [
       "3.1415910827951143"
      ]
     },
     "execution_count": 21,
     "metadata": {},
     "output_type": "execute_result"
    }
   ],
   "source": [
    "even = np.arange(2, 1000001, 2)  # 分子\n",
    "one_below_even = even - 1        # 前一坨的分母\n",
    "one_above_even = even + 1        # 后一坨的分母\n",
    "approx_to_pi = 2 * np.prod(even / one_below_even) * np.prod(even / one_above_even)\n",
    "approx_to_pi"
   ]
  },
  {
   "cell_type": "markdown",
   "id": "c4c156ab",
   "metadata": {},
   "source": [
    "---\n",
    "\n",
    "<br />\n",
    "\n",
    "## Extra (hw02)\n",
    "\n",
    "### hw02-1 Creating Arrays\n",
    "\n",
    "- String 的 `join()` 方法"
   ]
  },
  {
   "cell_type": "code",
   "execution_count": 22,
   "id": "24086195",
   "metadata": {},
   "outputs": [
    {
     "name": "stdout",
     "output_type": "stream",
     "text": [
      "with_commas: Eats, Shoots, and Leaves\n",
      "without_commas: Eats Shoots and Leaves\n"
     ]
    }
   ],
   "source": [
    "book_title_words = make_array(\"Eats\", \"Shoots\", \"and Leaves\")\n",
    "with_commas = \", \".join(book_title_words)\n",
    "without_commas = \" \".join(book_title_words)\n",
    "print('with_commas:', with_commas)\n",
    "print('without_commas:', without_commas)"
   ]
  },
  {
   "cell_type": "markdown",
   "id": "1dd20ac6",
   "metadata": {},
   "source": [
    "### hw02-2 Indexing Arrays\n",
    "\n",
    "- 使用 `array.item(index)`, data8 中不要使用方括号来索引, 如 `arr[0]`"
   ]
  },
  {
   "cell_type": "code",
   "execution_count": 23,
   "id": "500d7d33",
   "metadata": {},
   "outputs": [
    {
     "data": {
      "text/plain": [
       "-6"
      ]
     },
     "execution_count": 23,
     "metadata": {},
     "output_type": "execute_result"
    }
   ],
   "source": [
    "some_numbers = make_array(-1, -3, -6, -10, -15)\n",
    "some_numbers.item(2)"
   ]
  },
  {
   "cell_type": "code",
   "execution_count": 24,
   "id": "b4c56b1e",
   "metadata": {},
   "outputs": [
    {
     "data": {
      "text/plain": [
       "-6"
      ]
     },
     "execution_count": 24,
     "metadata": {},
     "output_type": "execute_result"
    }
   ],
   "source": [
    "some_numbers[2]"
   ]
  },
  {
   "cell_type": "code",
   "execution_count": 25,
   "id": "0124c0b8",
   "metadata": {},
   "outputs": [
    {
     "data": {
      "text/html": [
       "<table border=\"1\" class=\"dataframe\">\n",
       "    <thead>\n",
       "        <tr>\n",
       "            <th>English name for position</th> <th>Index</th> <th>Element</th>\n",
       "        </tr>\n",
       "    </thead>\n",
       "    <tbody>\n",
       "        <tr>\n",
       "            <td>first                    </td> <td>0    </td> <td>-1     </td>\n",
       "        </tr>\n",
       "        <tr>\n",
       "            <td>second                   </td> <td>1    </td> <td>-3     </td>\n",
       "        </tr>\n",
       "        <tr>\n",
       "            <td>third                    </td> <td>2    </td> <td>-6     </td>\n",
       "        </tr>\n",
       "        <tr>\n",
       "            <td>fourth                   </td> <td>3    </td> <td>-10    </td>\n",
       "        </tr>\n",
       "        <tr>\n",
       "            <td>fifth                    </td> <td>4    </td> <td>-15    </td>\n",
       "        </tr>\n",
       "    </tbody>\n",
       "</table>"
      ],
      "text/plain": [
       "English name for position | Index | Element\n",
       "first                     | 0     | -1\n",
       "second                    | 1     | -3\n",
       "third                     | 2     | -6\n",
       "fourth                    | 3     | -10\n",
       "fifth                     | 4     | -15"
      ]
     },
     "execution_count": 25,
     "metadata": {},
     "output_type": "execute_result"
    }
   ],
   "source": [
    "blank_a = \"third\"\n",
    "blank_b = \"fourth\"\n",
    "blank_c = 0\n",
    "blank_d = 3\n",
    "elements_of_some_numbers = Table().with_columns(\n",
    "    \"English name for position\", make_array(\"first\", \"second\", blank_a, blank_b, \"fifth\"),\n",
    "    \"Index\",                     make_array(blank_c, 1, 2, blank_d, 4),\n",
    "    \"Element\",                   some_numbers)\n",
    "elements_of_some_numbers"
   ]
  },
  {
   "cell_type": "markdown",
   "id": "398eba1a",
   "metadata": {},
   "source": [
    "### hw02-3 Basic Array Arithmetic\n",
    "\n",
    "- 读 table 的 column 的结果是一个 array，例如\n",
    "    ```python\n",
    "    max_temperatures = Table.read_table(\"temperatures.csv\").column(\"Daily Max Temperature\")\n",
    "    celsius_max_temperatures = np.round((max_temperatures - 32) * (5/9))\n",
    "    ```\n",
    "    \n",
    "### hw02-4 Old Faithful\n",
    "\n",
    "- 表的 `take` method\n",
    "\n"
   ]
  },
  {
   "cell_type": "markdown",
   "id": "8a73f3a9",
   "metadata": {},
   "source": [
    "---\n",
    "\n",
    "## Extra (Lab03)\n",
    "\n",
    "- [list of string methods](https://docs.python.org/3/library/stdtypes.html#string-methods)\n",
    "- Strings 和 numers 不可以直接相加，例如 \n",
    "    ```python\n",
    "    8 + \"8\"   # error\n",
    "    ```\n",
    "- 可以考虑类型转换\n",
    "\n",
    "    | Function |                                                  Description |\n",
    "    |:------- |:----------------------------------------------------------- |\n",
    "    |    `int` | Converts a string of digits or a float to an integer (\"int\") value |\n",
    "    |  `float` | Converts a string of digits (perhaps with a decimal point) or an int to a decimal (\"float\") value |\n",
    "    |    `str` |                               Converts any value to a string |\n",
    "    \n",
    "-  the `round` function takes in two arguments: the number to be rounded, and the number of decimal places to round to. The second argument can be thought of as how many steps right or left you move from the decimal point.\n",
    "- NumPy provides its own version of `round` that rounds each element of an array. `np.round()`\n",
    "- **elementwise**"
   ]
  },
  {
   "cell_type": "code",
   "execution_count": 1,
   "id": "7234f3b4",
   "metadata": {},
   "outputs": [
    {
     "data": {
      "text/plain": [
       "1200.0"
      ]
     },
     "execution_count": 1,
     "metadata": {},
     "output_type": "execute_result"
    }
   ],
   "source": [
    "round(1234.5, -2)"
   ]
  },
  {
   "cell_type": "markdown",
   "id": "97c186c7",
   "metadata": {},
   "source": [
    "- 创建一个 table\n",
    "    - creates an empty table using the expression Table(),\n",
    "    - adds two columns by calling with_columns with four arguments,\n",
    "- Table 的一些 methods\n",
    "    - `with_columns()`\n",
    "    - `read.table()`\n",
    "    - `column()`\n",
    "    - `take()`: 以一个 range 作为参数，返回 range 中索引值对应的行"
   ]
  },
  {
   "cell_type": "code",
   "execution_count": null,
   "id": "2097d74a",
   "metadata": {},
   "outputs": [],
   "source": []
  }
 ],
 "metadata": {
  "kernelspec": {
   "display_name": "Python 3 (ipykernel)",
   "language": "python",
   "name": "python3"
  },
  "language_info": {
   "codemirror_mode": {
    "name": "ipython",
    "version": 3
   },
   "file_extension": ".py",
   "mimetype": "text/x-python",
   "name": "python",
   "nbconvert_exporter": "python",
   "pygments_lexer": "ipython3",
   "version": "3.9.6"
  },
  "toc": {
   "base_numbering": 1,
   "nav_menu": {},
   "number_sections": false,
   "sideBar": true,
   "skip_h1_title": false,
   "title_cell": "Table of Contents",
   "title_sidebar": "Contents",
   "toc_cell": false,
   "toc_position": {
    "height": "calc(100% - 180px)",
    "left": "10px",
    "top": "150px",
    "width": "288px"
   },
   "toc_section_display": true,
   "toc_window_display": true
  }
 },
 "nbformat": 4,
 "nbformat_minor": 5
}
