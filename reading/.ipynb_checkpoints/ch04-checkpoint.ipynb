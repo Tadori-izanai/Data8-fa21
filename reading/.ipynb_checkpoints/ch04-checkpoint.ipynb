{
 "cells": [
  {
   "cell_type": "markdown",
   "id": "2d56e16c",
   "metadata": {},
   "source": [
    "# 4 Data Types\n",
    "\n",
    "## 4.1 Numbers\n",
    "\n",
    "- 整数在 Python 中称为 int\n",
    "- 实数在 Python 中称为 float\n",
    "- 使用 `type()` 函数来求任何数的类型"
   ]
  },
  {
   "cell_type": "code",
   "execution_count": 1,
   "id": "72dd3d9c",
   "metadata": {},
   "outputs": [
    {
     "data": {
      "text/plain": [
       "3.5"
      ]
     },
     "execution_count": 1,
     "metadata": {},
     "output_type": "execute_result"
    }
   ],
   "source": [
    "1.5 + 2 # int 和 float 组合的结果为 float"
   ]
  },
  {
   "cell_type": "code",
   "execution_count": 2,
   "id": "a5d78dde",
   "metadata": {},
   "outputs": [
    {
     "data": {
      "text/plain": [
       "3.0"
      ]
     },
     "execution_count": 2,
     "metadata": {},
     "output_type": "execute_result"
    }
   ],
   "source": [
    "3 / 1   # 任何数除以 int 均为 float "
   ]
  },
  {
   "cell_type": "code",
   "execution_count": 13,
   "id": "33c96957",
   "metadata": {},
   "outputs": [
    {
     "data": {
      "text/plain": [
       "-1.14514191981e+20"
      ]
     },
     "execution_count": 13,
     "metadata": {},
     "output_type": "execute_result"
    }
   ],
   "source": [
    "-114514191981000000000.0  # 过大或过小的 float 将表示为科学计数法"
   ]
  },
  {
   "cell_type": "code",
   "execution_count": 4,
   "id": "d50232fc",
   "metadata": {},
   "outputs": [
    {
     "data": {
      "text/plain": [
       "float"
      ]
     },
     "execution_count": 4,
     "metadata": {},
     "output_type": "execute_result"
    }
   ],
   "source": [
    "type(3 / 1)"
   ]
  },
  {
   "cell_type": "code",
   "execution_count": 5,
   "id": "6255961b",
   "metadata": {},
   "outputs": [
    {
     "data": {
      "text/plain": [
       "int"
      ]
     },
     "execution_count": 5,
     "metadata": {},
     "output_type": "execute_result"
    }
   ],
   "source": [
    "x = 3\n",
    "type(x)  # 表达式的 type 是表达式的值的类型"
   ]
  },
  {
   "cell_type": "code",
   "execution_count": 6,
   "id": "954bdf74",
   "metadata": {},
   "outputs": [
    {
     "data": {
      "text/plain": [
       "float"
      ]
     },
     "execution_count": 6,
     "metadata": {},
     "output_type": "execute_result"
    }
   ],
   "source": [
    "type(x + 2.5)"
   ]
  },
  {
   "cell_type": "markdown",
   "id": "b9c1ca6f",
   "metadata": {},
   "source": [
    "### 4.1.1 More about Float Valuse\n",
    "\n",
    "- float 是有限的\n",
    "- float 最多 15 或 16 位有效数字\n",
    "- float 算术运算后的最后几位可能不准确"
   ]
  },
  {
   "cell_type": "code",
   "execution_count": 16,
   "id": "ac4c6f75",
   "metadata": {},
   "outputs": [
    {
     "data": {
      "text/plain": [
       "inf"
      ]
     },
     "execution_count": 16,
     "metadata": {},
     "output_type": "execute_result"
    }
   ],
   "source": [
    "2e306 * 100  # 得到无穷"
   ]
  },
  {
   "cell_type": "code",
   "execution_count": 17,
   "id": "a3f8fbe2",
   "metadata": {},
   "outputs": [
    {
     "data": {
      "text/plain": [
       "0.0"
      ]
     },
     "execution_count": 17,
     "metadata": {},
     "output_type": "execute_result"
    }
   ],
   "source": [
    "2e-322 / 100 # 得到 0"
   ]
  },
  {
   "cell_type": "code",
   "execution_count": 18,
   "id": "46b2f46a",
   "metadata": {},
   "outputs": [
    {
     "data": {
      "text/plain": [
       "0.0"
      ]
     },
     "execution_count": 18,
     "metadata": {},
     "output_type": "execute_result"
    }
   ],
   "source": [
    "0.6666666666666666 - 0.6666666666666666123456789 # 最多 15 位"
   ]
  },
  {
   "cell_type": "code",
   "execution_count": 21,
   "id": "a9f31db2",
   "metadata": {},
   "outputs": [
    {
     "data": {
      "text/plain": [
       "2.0000000000000004"
      ]
     },
     "execution_count": 21,
     "metadata": {},
     "output_type": "execute_result"
    }
   ],
   "source": [
    "(2 ** .5) * (2 ** .5) # 不精确，甚至"
   ]
  },
  {
   "cell_type": "code",
   "execution_count": 22,
   "id": "55bf0d53",
   "metadata": {},
   "outputs": [
    {
     "data": {
      "text/plain": [
       "4.440892098500626e-16"
      ]
     },
     "execution_count": 22,
     "metadata": {},
     "output_type": "execute_result"
    }
   ],
   "source": [
    "(2 ** .5) * (2 ** .5) - 2"
   ]
  },
  {
   "cell_type": "markdown",
   "id": "f3fd2e51",
   "metadata": {},
   "source": [
    "---\n",
    "\n",
    "## 4.2 Strings\n",
    "\n",
    "- 可以有加法"
   ]
  },
  {
   "cell_type": "code",
   "execution_count": 23,
   "id": "e142d983",
   "metadata": {},
   "outputs": [
    {
     "data": {
      "text/plain": [
       "'data science'"
      ]
     },
     "execution_count": 23,
     "metadata": {},
     "output_type": "execute_result"
    }
   ],
   "source": [
    "\"data\" + \" \" + \"science\""
   ]
  },
  {
   "cell_type": "markdown",
   "id": "745c9e24",
   "metadata": {},
   "source": [
    "- 单双引号同样表示 string\n",
    "- 更推荐双，因为其内可以撇"
   ]
  },
  {
   "cell_type": "code",
   "execution_count": 24,
   "id": "eeba018d",
   "metadata": {},
   "outputs": [
    {
     "data": {
      "text/plain": [
       "\"This won't work with a single-quoted string!\""
      ]
     },
     "execution_count": 24,
     "metadata": {},
     "output_type": "execute_result"
    }
   ],
   "source": [
    "\"This won't work with a single-quoted string!\""
   ]
  },
  {
   "cell_type": "markdown",
   "id": "8fc1aef4",
   "metadata": {},
   "source": [
    "- 使用 `str()` 函数，返回任意值的 string 版本"
   ]
  },
  {
   "cell_type": "code",
   "execution_count": 25,
   "id": "a629973a",
   "metadata": {},
   "outputs": [
    {
     "data": {
      "text/plain": [
       "\"that's 2 True\""
      ]
     },
     "execution_count": 25,
     "metadata": {},
     "output_type": "execute_result"
    }
   ],
   "source": [
    "\"that's \" + str(1 + 1) + ' ' + str(True)"
   ]
  },
  {
   "cell_type": "markdown",
   "id": "c5039364",
   "metadata": {},
   "source": [
    "### 4.2.1 String Methods\n",
    "\n",
    "- 在一个字符串之后放一个 `.` 来调用方法"
   ]
  },
  {
   "cell_type": "code",
   "execution_count": 26,
   "id": "50e8a900",
   "metadata": {},
   "outputs": [
    {
     "data": {
      "text/plain": [
       "'LOUD'"
      ]
     },
     "execution_count": 26,
     "metadata": {},
     "output_type": "execute_result"
    }
   ],
   "source": [
    "\"loud\".upper()"
   ]
  },
  {
   "cell_type": "markdown",
   "id": "a7235b21",
   "metadata": {},
   "source": [
    "- 方法 `replace()` 替换一个字符串中所有匹配的子字符串实例 (非破坏性的)"
   ]
  },
  {
   "cell_type": "code",
   "execution_count": 28,
   "id": "19036664",
   "metadata": {},
   "outputs": [
    {
     "data": {
      "text/plain": [
       "'matchmaker'"
      ]
     },
     "execution_count": 28,
     "metadata": {},
     "output_type": "execute_result"
    }
   ],
   "source": [
    "'hitchhiker'.replace('hi', 'ma')"
   ]
  },
  {
   "cell_type": "code",
   "execution_count": 30,
   "id": "2bee45ad",
   "metadata": {},
   "outputs": [
    {
     "data": {
      "text/plain": [
       "'degrade'"
      ]
     },
     "execution_count": 30,
     "metadata": {},
     "output_type": "execute_result"
    }
   ],
   "source": [
    "s = \"train\"\n",
    "t = s.replace('t', 'ing') # ingrain\n",
    "u = t.replace('in', 'de') # degrade\n",
    "u"
   ]
  },
  {
   "cell_type": "code",
   "execution_count": 31,
   "id": "f3a0a246",
   "metadata": {},
   "outputs": [
    {
     "data": {
      "text/plain": [
       "'train'"
      ]
     },
     "execution_count": 31,
     "metadata": {},
     "output_type": "execute_result"
    }
   ],
   "source": [
    "s  # 调用 replace() 不会改变 s"
   ]
  },
  {
   "cell_type": "markdown",
   "id": "71530a9c",
   "metadata": {},
   "source": [
    "---\n",
    "\n",
    "## 4.3 Comparisons\n",
    "\n",
    "- Boolean 值通常来自于比较"
   ]
  },
  {
   "cell_type": "code",
   "execution_count": 32,
   "id": "0648d516",
   "metadata": {},
   "outputs": [
    {
     "data": {
      "text/plain": [
       "True"
      ]
     },
     "execution_count": 32,
     "metadata": {},
     "output_type": "execute_result"
    }
   ],
   "source": [
    "3 > 1 + 1"
   ]
  },
  {
   "cell_type": "markdown",
   "id": "1336b7e2",
   "metadata": {},
   "source": [
    "- 常用的 comparison operators: `<` `>` `<=` `>=` `==` `!=`\n",
    "- 允许同时有多个比较"
   ]
  },
  {
   "cell_type": "code",
   "execution_count": 35,
   "id": "77949ab5",
   "metadata": {},
   "outputs": [
    {
     "data": {
      "text/plain": [
       "True"
      ]
     },
     "execution_count": 35,
     "metadata": {},
     "output_type": "execute_result"
    }
   ],
   "source": [
    "1 < 1 + 1 < 3  # 需要两个同时 true，整个表达式才可以 true"
   ]
  },
  {
   "cell_type": "code",
   "execution_count": 36,
   "id": "0cf64443",
   "metadata": {},
   "outputs": [
    {
     "data": {
      "text/plain": [
       "True"
      ]
     },
     "execution_count": 36,
     "metadata": {},
     "output_type": "execute_result"
    }
   ],
   "source": [
    "x = 12\n",
    "y = 5\n",
    "min(x, y) <= (x + y) / 2 <= max(x, y)"
   ]
  },
  {
   "cell_type": "markdown",
   "id": "c445f482",
   "metadata": {},
   "source": [
    "- Strings 也可以比较，大小准则同 string.h 中的 `strcmp()`"
   ]
  },
  {
   "cell_type": "code",
   "execution_count": 41,
   "id": "46576567",
   "metadata": {},
   "outputs": [
    {
     "data": {
      "text/plain": [
       "True"
      ]
     },
     "execution_count": 41,
     "metadata": {},
     "output_type": "execute_result"
    }
   ],
   "source": [
    "'dog' > 'Eggs' > 'Cat'"
   ]
  },
  {
   "cell_type": "markdown",
   "id": "b860a59c",
   "metadata": {},
   "source": []
  }
 ],
 "metadata": {
  "kernelspec": {
   "display_name": "Python 3 (ipykernel)",
   "language": "python",
   "name": "python3"
  },
  "language_info": {
   "codemirror_mode": {
    "name": "ipython",
    "version": 3
   },
   "file_extension": ".py",
   "mimetype": "text/x-python",
   "name": "python",
   "nbconvert_exporter": "python",
   "pygments_lexer": "ipython3",
   "version": "3.9.6"
  },
  "toc": {
   "base_numbering": 1,
   "nav_menu": {},
   "number_sections": false,
   "sideBar": true,
   "skip_h1_title": false,
   "title_cell": "Table of Contents",
   "title_sidebar": "Contents",
   "toc_cell": false,
   "toc_position": {},
   "toc_section_display": true,
   "toc_window_display": true
  }
 },
 "nbformat": 4,
 "nbformat_minor": 5
}
