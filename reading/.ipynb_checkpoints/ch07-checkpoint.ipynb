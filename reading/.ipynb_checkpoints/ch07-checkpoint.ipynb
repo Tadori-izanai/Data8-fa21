{
 "cells": [
  {
   "cell_type": "markdown",
   "id": "f89fcc7d",
   "metadata": {},
   "source": [
    "# 7 Visualization\n",
    "\n",
    "- 术语 Terminology: variable, quantitative/numerical variable\n",
    "\n",
    "### 7.0.1 Scatter Plots\n",
    "\n",
    "- Table method `scatter()`, 用于画一个表中两列的散点图（第一个参数为横坐标对应的 label, 第二个参数为...）\n",
    "- The plot shows an **association** between the variables\n",
    "- Def. The association is **positive**: 一个变量的高值往往和另一变量的高值相关. (同理可以定义 **negative**)"
   ]
  },
  {
   "cell_type": "code",
   "execution_count": null,
   "id": "349a42ee",
   "metadata": {},
   "outputs": [],
   "source": [
    "from datascience import *\n",
    "import numpy as np\n",
    "# 下面三行不知道什么东西，先引入\n",
    "%matplotlib inline\n",
    "import matplotlib.pyplot as plots\n",
    "plots.style.use('fivethirtyeight')\n",
    "\n",
    "\n",
    "actors = Table.read_table('actors.csv')\n",
    "actors"
   ]
  },
  {
   "cell_type": "code",
   "execution_count": null,
   "id": "9de1faef",
   "metadata": {},
   "outputs": [],
   "source": [
    "actors.scatter('Number of Movies', 'Total Gross')"
   ]
  },
  {
   "cell_type": "code",
   "execution_count": null,
   "id": "7f980219",
   "metadata": {},
   "outputs": [],
   "source": [
    "actors.scatter('Number of Movies', 'Average per Movie')"
   ]
  },
  {
   "cell_type": "markdown",
   "id": "8214dde2",
   "metadata": {},
   "source": [
    "- 称上图中左上角的一个点为 **outlier**\n",
    "- 下面考虑去除 outlier"
   ]
  },
  {
   "cell_type": "code",
   "execution_count": null,
   "id": "ce5daed2",
   "metadata": {},
   "outputs": [],
   "source": [
    "no_outlier = actors.where('Number of Movies', are.above(10))\n",
    "no_outlier.scatter('Number of Movies', 'Average per Movie')"
   ]
  },
  {
   "cell_type": "markdown",
   "id": "236151f6",
   "metadata": {},
   "source": [
    "### 7.0.2 Line Plots\n",
    "\n",
    "- 折线图常用于研究 chronological trends and patterns.\n",
    "- Table method `plot()` 用于产生 line plots, 用法同 `scatter()`"
   ]
  },
  {
   "cell_type": "code",
   "execution_count": null,
   "id": "376c8c74",
   "metadata": {},
   "outputs": [],
   "source": [
    "movies_by_year = Table.read_table('movies_by_year.csv')\n",
    "movies_by_year"
   ]
  },
  {
   "cell_type": "code",
   "execution_count": null,
   "id": "ad9419f7",
   "metadata": {},
   "outputs": [],
   "source": [
    "movies_by_year.plot('Year', 'Number of Movies')"
   ]
  },
  {
   "cell_type": "markdown",
   "id": "5de7bc11",
   "metadata": {},
   "source": [
    "---\n",
    "\n",
    "## 7.1 Visualizing Categorical Distributions\n",
    "\n",
    "- 给出一些分类变量 (**categorical** variables) 的例子\n",
    "    | indivisuals                     | variables                                                    |\n",
    "    |:------------------------------- |:------------------------------------------------------------ |\n",
    "    | ice-cream                       | flavor in the carton.                                        |\n",
    "    | professional basketball players | the player’s team                                            |\n",
    "    | survey respondents              | the response among “Not at all satisfied” “Somewhat satisfied” and “Very satisfied” |"
   ]
  },
  {
   "cell_type": "code",
   "execution_count": null,
   "id": "ff051f10",
   "metadata": {},
   "outputs": [],
   "source": [
    "icecream = Table().with_columns(\n",
    "    'Flavor', make_array('Chocolate', 'Strawberry', 'Vinilla'),\n",
    "    'Number of Cartons', make_array(16, 5, 9)\n",
    ")\n",
    "icecream"
   ]
  },
  {
   "cell_type": "markdown",
   "id": "17cc5069",
   "metadata": {},
   "source": [
    "- The **values** of the categorial var \"flavor\" are: 'Chocolate', 'Strawberry', 'Vinilla'\n",
    "- 在一个 **distribution** 中，每一个 individual 恰属于一个类别\n",
    "- 称上表为 **distribution table**\n",
    "\n",
    "### 7.1.1 Bar Chart\n",
    "\n",
    "- The bar chart is a familiar way of visualizing categorical distributions.\n",
    "- 绘制 horizontal bar 图，使用 Table method `barh()`\n",
    "    - 第一个参数为类别的 label\n",
    "    - 第二个参数为频次的 label\n",
    "    - 若该表只有两列，则可以省略第二个参数"
   ]
  },
  {
   "cell_type": "code",
   "execution_count": null,
   "id": "e42d2992",
   "metadata": {},
   "outputs": [],
   "source": [
    "icecream.barh('Flavor', 'Number of Cartons')"
   ]
  },
  {
   "cell_type": "code",
   "execution_count": null,
   "id": "137373e7",
   "metadata": {},
   "outputs": [],
   "source": [
    "icecream.barh('Flavor')"
   ]
  },
  {
   "cell_type": "markdown",
   "id": "918ba3cb",
   "metadata": {},
   "source": [
    "### 7.1.2 Design Aspects of Bar Charts\n",
    "\n",
    "- 考虑按降序来画 bar chart (使得更易于阅读，尤其是当 categories 很多的时候)"
   ]
  },
  {
   "cell_type": "code",
   "execution_count": null,
   "id": "74694d24",
   "metadata": {},
   "outputs": [],
   "source": [
    "icecream.sort('Number of Cartons', descending=True).barh('Flavor')"
   ]
  },
  {
   "cell_type": "markdown",
   "id": "8efd4065",
   "metadata": {},
   "source": [
    "### 7.1.3 Grouping Categorical Data\n",
    "\n",
    "- Table method `group()` 用于数频次 (创建 distribution table)\n",
    "    - 其参数为表示类别的列的 label\n",
    "    - returns a table of counts of rows in each category. (通常生成的 table 的第二列的 label 为 'count')\n",
    "    - 其按照类别名称升序来列出"
   ]
  },
  {
   "cell_type": "code",
   "execution_count": null,
   "id": "0765a3d5",
   "metadata": {},
   "outputs": [],
   "source": [
    "# 目标：统计 Studio 出现的频次\n",
    "top = Table.read_table('top_movies_2017.csv')\n",
    "top"
   ]
  },
  {
   "cell_type": "code",
   "execution_count": null,
   "id": "78e0b078",
   "metadata": {},
   "outputs": [],
   "source": [
    "# 考虑去除不用的信息\n",
    "movies_and_studios = top.select('Title', 'Studio')\n",
    "studio_distribution = movies_and_studios.group('Studio')\n",
    "studio_distribution"
   ]
  },
  {
   "cell_type": "code",
   "execution_count": null,
   "id": "fdcc82b4",
   "metadata": {},
   "outputs": [],
   "source": [
    "# movies 的总数即为 count 之和\n",
    "print(sum(studio_distribution.column('count')))\n",
    "\n",
    "# 可以给一个 bar 图"
   ]
  },
  {
   "cell_type": "code",
   "execution_count": null,
   "id": "1c3c7b76",
   "metadata": {},
   "outputs": [],
   "source": [
    "studio_distribution.sort('count', descending=True).barh('Studio')"
   ]
  },
  {
   "cell_type": "markdown",
   "id": "811cef84",
   "metadata": {},
   "source": [
    "### 7.1.4 Towards Quantitative Variables\n",
    "\n",
    "- 例如年份也可以视为 catagorical variable"
   ]
  },
  {
   "cell_type": "markdown",
   "id": "21682288",
   "metadata": {},
   "source": [
    "---\n",
    "\n",
    "## 7.2 Visualization Numerical Distributions\n",
    "\n",
    "- "
   ]
  },
  {
   "cell_type": "code",
   "execution_count": null,
   "id": "a3ed7c17",
   "metadata": {},
   "outputs": [],
   "source": [
    "# top.set_format([2, 3], NumberFormatter)   # 对 3, 4 列的数字进行分节\n",
    "# 创建一个更小的表\n",
    "millions = top.select(0).with_column(\n",
    "    'Adjusted Gross', np.round(top.column(3) / 1e6, 2)  # 使得以 million 为单位\n",
    ")\n",
    "millions"
   ]
  },
  {
   "cell_type": "markdown",
   "id": "5a107f05",
   "metadata": {},
   "source": [
    "### 7.2.1 Binning the Data\n",
    "\n",
    "- 考虑将上述的 Adjusted Gross 分为几个 intervals (称其为 **bins**), 然后观察每一个 bin 内有多少 movies\n",
    "    - 这个过程称为 **binning**\n",
    "- Table method `bin()`\n",
    "    - 其一个参数为 label, 另一个参数可选，用于指定所需的 bin (可以是一个 range, 也可以是一个数)\n",
    "    - 不指定 bin, 默认生成 10 个等宽的 bin\n",
    "    - 生成的 Table 第一列为 'bin'，此列指定的是每一列的左端点\n",
    "    - 每个 bin 都包含其左端点，而不包含右端点（最后一个 bin 除外）\n",
    "- bins 也可不等宽"
   ]
  },
  {
   "cell_type": "code",
   "execution_count": null,
   "id": "40584f2d",
   "metadata": {},
   "outputs": [],
   "source": [
    "adj_gross = millions.column('Adjusted Gross')\n",
    "min(adj_gross), max(adj_gross)"
   ]
  },
  {
   "cell_type": "code",
   "execution_count": null,
   "id": "d3431b44",
   "metadata": {},
   "outputs": [],
   "source": [
    "bin_counts = millions.bin('Adjusted Gross', bins = np.arange(300, 2001, 100))\n",
    "bin_counts.show()"
   ]
  },
  {
   "cell_type": "code",
   "execution_count": null,
   "id": "e5cf580c",
   "metadata": {},
   "outputs": [],
   "source": [
    "millions.bin('Adjusted Gross').show()            # 默认生成 10 个 bins，无视最后一列（\n",
    "millions.bin('Adjusted Gross', bins = 4).show()  # 指定生成 4 个 bins ()，无视最后一列（"
   ]
  },
  {
   "cell_type": "markdown",
   "id": "58d26998",
   "metadata": {},
   "source": [
    "### 7.2.2 Histogram\n",
    "\n",
    "- 直方图 (**histogram**) is a visualization of the distribution of a quantitative variable\n",
    "- Table method `hsit()` 用于绘制直方图\n",
    "    - 其有可选参数 `unit`, `bins`\n",
    "    - 不指定 bins, 则创建 10 个等宽的 bins\n",
    "    - 同 bins, 每个区间都是左闭右开的\n",
    "    - 可选参数 `bins` 同 `bin()` 中的一样"
   ]
  },
  {
   "cell_type": "code",
   "execution_count": null,
   "id": "72064c46",
   "metadata": {},
   "outputs": [],
   "source": [
    "millions.hist('Adjusted Gross', unit=\"Million Dollars\")"
   ]
  },
  {
   "cell_type": "code",
   "execution_count": null,
   "id": "0ac15d1f",
   "metadata": {},
   "outputs": [],
   "source": [
    "millions.hist('Adjusted Gross', bins=np.arange(300, 2001, 100), unit=\"million Dollars\")    # 使得横坐标更易读"
   ]
  },
  {
   "cell_type": "markdown",
   "id": "2360e0d8",
   "metadata": {},
   "source": [
    "- 我们称上图这种形状为 **skewed to the right** / having **a long right hand tail**.\n",
    "\n",
    "### 7.2.4 The Area Principle\n",
    "\n",
    "- The area principle of visualization says that when we represent a magnitude by a figure that has two dimensions, such as a rectangle, then the **area** of the figure should represent the magnitude. (面积表示量级)\n",
    "\n",
    "### 7.2.5 The Histogram: General Principles and Calculation\n",
    "\n",
    "- 更具面积原则，直方图应有如下属性\n",
    "    1. bins 按比例绘制，并且连续\n",
    "    2. 每个 bar 的面积和 bin 中的条目数成正比\n",
    "- bar 的高度被称为 density or crowdedness, 因为\n",
    "    $$\n",
    "    \\mbox{height of bar} ~=~ \n",
    "    \\frac{\\mbox{area of bar}}{\\mbox{width of bin}} ~=~\n",
    "    \\frac{\\mbox{percent of entries in bin}}{\\mbox{width of bin}}\n",
    "    $$\n",
    "- The histogram is said to be drawn on the **density scale**.\n",
    "    - 每个 bar 的面积等于相应 bin 中数据所占百分比\n",
    "    - bars 总面积之和为 1\n",
    "\n",
    "### 7.2.6 The virtical Axis: Desity Scale\n",
    "\n",
    "### 7.2.7 Why Not Simply Plot the Counts\n",
    "\n",
    "- 尝试用不等间距的 bins"
   ]
  },
  {
   "cell_type": "code",
   "execution_count": null,
   "id": "0a2608c1",
   "metadata": {},
   "outputs": [],
   "source": [
    "uneven = make_array(300, 350, 400, 500, 1800)\n",
    "millions.hist('Adjusted Gross', bins=uneven, unit=\"Million Dollar\")"
   ]
  },
  {
   "cell_type": "code",
   "execution_count": null,
   "id": "0873fc5f",
   "metadata": {},
   "outputs": [],
   "source": [
    "# 同时再给出 bin table\n",
    "unequal_bins = millions.bin('Adjusted Gross', bins=uneven)\n",
    "unequal_bins.with_column(\n",
    "    'Percents', unequal_bins.column(1) / sum(unequal_bins.column(1))\n",
    ")\n",
    "## 虽然 [500, 1800) 站 0.36，但是其密度小，柱短"
   ]
  },
  {
   "cell_type": "code",
   "execution_count": null,
   "id": "40fca6a5",
   "metadata": {},
   "outputs": [],
   "source": [
    "# 如果要按照 count 来画图，则 misrepresents the data\n",
    "millions.hist('Adjusted Gross', bins=uneven, normed=False)  # 可以添加选项 normed=False\n",
    "# 但这已经不是 Histrogram"
   ]
  },
  {
   "cell_type": "markdown",
   "id": "fa5a2193",
   "metadata": {},
   "source": [
    "### 7.2.8 Flat Tops and the Level of Detail"
   ]
  },
  {
   "cell_type": "code",
   "execution_count": null,
   "id": "dc4fd4f3",
   "metadata": {},
   "outputs": [],
   "source": [
    "some_tiny_bins = make_array(300, 350, 400, 410, 420, 430, 440, 450, 460, 470, 480, 490, 500, 1800)\n",
    "millions.hist('Adjusted Gross', bins=some_tiny_bins, unit='Million Dollars')     # 注意和 uneven 对比"
   ]
  },
  {
   "cell_type": "markdown",
   "id": "c2fb216e",
   "metadata": {},
   "source": [
    "### 7.2.9 Computing All Heights"
   ]
  },
  {
   "cell_type": "code",
   "execution_count": null,
   "id": "8194c4c4",
   "metadata": {},
   "outputs": [],
   "source": [
    "# 1. 获取 bins 表，并且改 label\n",
    "ram_elements = millions.bin('Adjusted Gross', bins=uneven).relabeled(1, 'count')\n",
    "ram_elements.show()\n",
    "\n",
    "# 2. 计算所占 percent\n",
    "histogram_elements = ram_elements.with_columns(\n",
    "    'percent', ram_elements.column(1) / sum(ram_elements.column(1)) * 100\n",
    ")\n",
    "histogram_elements.show()\n",
    "\n",
    "# 3. 计算宽度，舍掉最后一行\n",
    "bin_widths = np.diff(histogram_elements.column('bin'))  # 利用差分, 计算宽度\n",
    "num_bins = histogram_elements.num_rows - 1;             # number of bins (新表行数)\n",
    "histogram_elements = histogram_elements.take(\n",
    "    np.arange(num_bins)\n",
    ").with_columns(\n",
    "    'width', bin_widths\n",
    ")\n",
    "histogram_elements.show()\n",
    "\n",
    "# 4. 计算高度\n",
    "heights = np.round(\n",
    "    histogram_elements.column('percent') / histogram_elements.column('width'), 2\n",
    ")\n",
    "histogram_elements = histogram_elements.with_column(\n",
    "    'height', heights\n",
    ")\n",
    "histogram_elements.show()"
   ]
  },
  {
   "cell_type": "markdown",
   "id": "bb66738e",
   "metadata": {},
   "source": [
    "---\n",
    "\n",
    "## 7.3 Overlaid Graphs\n",
    "\n",
    "**overlay** plots\n",
    "\n",
    "- To draw overlaid graphs, the methods `scatter()`, `plot()`, and `barh()` can all be called in the same way. \n",
    "    ```python\n",
    "    name_of_table.method(column_label_of_common_axis, array_of_labels_of_variables_to_plot)\n",
    "    ```\n",
    "    - 更常见的是\n",
    "    ```python\n",
    "    name_of_table.method(column_label_of_common_axis)\n",
    "    ```\n",
    "\n",
    "### 7.3.1 Overlaid Scatter Plots"
   ]
  },
  {
   "cell_type": "code",
   "execution_count": null,
   "id": "89f3e341",
   "metadata": {},
   "outputs": [],
   "source": [
    "sons = Table.read_table('sons_heights.csv')\n",
    "sons"
   ]
  },
  {
   "cell_type": "code",
   "execution_count": 73,
   "id": "4032b303",
   "metadata": {},
   "outputs": [
    {
     "data": {
      "image/png": "[encoded data removed]",
      "text/plain": [
       "<Figure size 360x360 with 1 Axes>"
      ]
     },
     "metadata": {},
     "output_type": "display_data"
    }
   ],
   "source": [
    "sons.scatter('son')"
   ]
  },
  {
   "cell_type": "markdown",
   "id": "a61f2114",
   "metadata": {},
   "source": [
    "### 7.3.2 Overlaid Line Plots"
   ]
  },
  {
   "cell_type": "code",
   "execution_count": 76,
   "id": "3b596535",
   "metadata": {},
   "outputs": [
    {
     "data": {
      "text/html": [
       "<table border=\"1\" class=\"dataframe\">\n",
       "    <thead>\n",
       "        <tr>\n",
       "            <th>AGE</th> <th>2014</th> <th>2019</th>\n",
       "        </tr>\n",
       "    </thead>\n",
       "    <tbody>\n",
       "        <tr>\n",
       "            <td>0   </td> <td>3954787</td> <td>3783052</td>\n",
       "        </tr>\n",
       "        <tr>\n",
       "            <td>1   </td> <td>3948891</td> <td>3829599</td>\n",
       "        </tr>\n",
       "        <tr>\n",
       "            <td>2   </td> <td>3958711</td> <td>3922044</td>\n",
       "        </tr>\n",
       "        <tr>\n",
       "            <td>3   </td> <td>4005928</td> <td>3998665</td>\n",
       "        </tr>\n",
       "        <tr>\n",
       "            <td>4   </td> <td>4004032</td> <td>4043323</td>\n",
       "        </tr>\n",
       "        <tr>\n",
       "            <td>5   </td> <td>4004576</td> <td>4028281</td>\n",
       "        </tr>\n",
       "        <tr>\n",
       "            <td>6   </td> <td>4133372</td> <td>4017227</td>\n",
       "        </tr>\n",
       "        <tr>\n",
       "            <td>7   </td> <td>4152666</td> <td>4022319</td>\n",
       "        </tr>\n",
       "        <tr>\n",
       "            <td>8   </td> <td>4118349</td> <td>4066194</td>\n",
       "        </tr>\n",
       "        <tr>\n",
       "            <td>9   </td> <td>4106068</td> <td>4061874</td>\n",
       "        </tr>\n",
       "        <tr>\n",
       "            <td>10  </td> <td>4114558</td> <td>4060940</td>\n",
       "        </tr>\n",
       "        <tr>\n",
       "            <td>11  </td> <td>4084457</td> <td>4189261</td>\n",
       "        </tr>\n",
       "        <tr>\n",
       "            <td>12  </td> <td>4067187</td> <td>4208387</td>\n",
       "        </tr>\n",
       "        <tr>\n",
       "            <td>13  </td> <td>4168095</td> <td>4175221</td>\n",
       "        </tr>\n",
       "        <tr>\n",
       "            <td>14  </td> <td>4231353</td> <td>4164459</td>\n",
       "        </tr>\n",
       "        <tr>\n",
       "            <td>15  </td> <td>4162828</td> <td>4175459</td>\n",
       "        </tr>\n",
       "        <tr>\n",
       "            <td>16  </td> <td>4165925</td> <td>4150420</td>\n",
       "        </tr>\n",
       "        <tr>\n",
       "            <td>17  </td> <td>4181940</td> <td>4142425</td>\n",
       "        </tr>\n",
       "        <tr>\n",
       "            <td>18  </td> <td>4221344</td> <td>4255827</td>\n",
       "        </tr>\n",
       "    </tbody>\n",
       "</table>"
      ],
      "text/plain": [
       "<IPython.core.display.HTML object>"
      ]
     },
     "metadata": {},
     "output_type": "display_data"
    },
    {
     "data": {
      "image/png": "[encoded data removed]",
      "text/plain": [
       "<Figure size 432x432 with 1 Axes>"
      ]
     },
     "metadata": {},
     "output_type": "display_data"
    }
   ],
   "source": [
    "# http://www2.census.gov/programs-surveys/popest/technical-documentation/file-layouts/2010-2019/nc-est2019-agesex-res.csv\n",
    "children = Table().read_table('reading7_3_2.csv')\n",
    "children.show()\n",
    "children.plot('AGE')"
   ]
  },
  {
   "cell_type": "markdown",
   "id": "b822cb37",
   "metadata": {},
   "source": [
    "### 7.3.3 Bar Charts"
   ]
  },
  {
   "cell_type": "code",
   "execution_count": 81,
   "id": "55ae05ed",
   "metadata": {},
   "outputs": [
    {
     "data": {
      "text/html": [
       "<table border=\"1\" class=\"dataframe\">\n",
       "    <thead>\n",
       "        <tr>\n",
       "            <th>Ethnicity/Race</th> <th>USA All</th> <th>CA All</th> <th>USA Children</th> <th>CA Children</th>\n",
       "        </tr>\n",
       "    </thead>\n",
       "    <tbody>\n",
       "        <tr>\n",
       "            <td>API           </td> <td>5.8    </td> <td>15.1  </td> <td>4.9         </td> <td>11.5       </td>\n",
       "        </tr>\n",
       "        <tr>\n",
       "            <td>Black         </td> <td>12.2   </td> <td>5.3   </td> <td>13.4        </td> <td>4.9        </td>\n",
       "        </tr>\n",
       "        <tr>\n",
       "            <td>Hispanic      </td> <td>18.5   </td> <td>39.5  </td> <td>25.6        </td> <td>52.1       </td>\n",
       "        </tr>\n",
       "        <tr>\n",
       "            <td>White         </td> <td>60.1   </td> <td>36.4  </td> <td>50          </td> <td>25.5       </td>\n",
       "        </tr>\n",
       "        <tr>\n",
       "            <td>Other         </td> <td>3.4    </td> <td>3.7   </td> <td>6.1         </td> <td>6          </td>\n",
       "        </tr>\n",
       "    </tbody>\n",
       "</table>"
      ],
      "text/plain": [
       "<IPython.core.display.HTML object>"
      ]
     },
     "metadata": {},
     "output_type": "display_data"
    },
    {
     "data": {
      "image/png": "[encoded data removed]",
      "text/plain": [
       "<Figure size 432x288 with 1 Axes>"
      ]
     },
     "metadata": {},
     "output_type": "display_data"
    }
   ],
   "source": [
    "usa_ca = Table.read_table('usa_ca_2019.csv')\n",
    "usa_ca.show()\n",
    "usa_ca.barh('Ethnicity/Race')"
   ]
  },
  {
   "cell_type": "code",
   "execution_count": 84,
   "id": "6d92bda1",
   "metadata": {},
   "outputs": [
    {
     "data": {
      "image/png": "[encoded data removed]",
      "text/plain": [
       "<Figure size 432x288 with 1 Axes>"
      ]
     },
     "metadata": {},
     "output_type": "display_data"
    },
    {
     "data": {
      "image/png": "[encoded data removed]",
      "text/plain": [
       "<Figure size 432x288 with 1 Axes>"
      ]
     },
     "metadata": {},
     "output_type": "display_data"
    }
   ],
   "source": [
    "# 信息太多，可以考虑单独抽出两者来比较，如\n",
    "usa_ca.select('Ethnicity/Race', 'USA All', 'CA All').barh('Ethnicity/Race')\n",
    "usa_ca.select('Ethnicity/Race', 'CA All', 'CA Children').barh('Ethnicity/Race')"
   ]
  },
  {
   "cell_type": "markdown",
   "id": "61ad4d19",
   "metadata": {},
   "source": []
  }
 ],
 "metadata": {
  "kernelspec": {
   "display_name": "Python 3 (ipykernel)",
   "language": "python",
   "name": "python3"
  },
  "language_info": {
   "codemirror_mode": {
    "name": "ipython",
    "version": 3
   },
   "file_extension": ".py",
   "mimetype": "text/x-python",
   "name": "python",
   "nbconvert_exporter": "python",
   "pygments_lexer": "ipython3",
   "version": "3.9.6"
  },
  "toc": {
   "base_numbering": 1,
   "nav_menu": {},
   "number_sections": false,
   "sideBar": true,
   "skip_h1_title": false,
   "title_cell": "Table of Contents",
   "title_sidebar": "Contents",
   "toc_cell": false,
   "toc_position": {},
   "toc_section_display": true,
   "toc_window_display": true
  }
 },
 "nbformat": 4,
 "nbformat_minor": 5
}
