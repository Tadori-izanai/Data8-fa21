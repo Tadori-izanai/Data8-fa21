{
 "cells": [
  {
   "cell_type": "code",
   "execution_count": 82,
   "id": "30b75033",
   "metadata": {},
   "outputs": [],
   "source": [
    "from datascience import *\n",
    "%matplotlib inline\n",
    "path_data = '../../../assets/data/'\n",
    "import matplotlib.pyplot as plt\n",
    "plt.style.use('fivethirtyeight')\n",
    "import numpy as np\n",
    "import warnings\n",
    "warnings.simplefilter(action='ignore', category=np.VisibleDeprecationWarning)"
   ]
  },
  {
   "cell_type": "markdown",
   "id": "91db2fe6",
   "metadata": {},
   "source": [
    "# 8 Functions and Tables\n",
    "\n",
    "### 8.0.1 Defining a Function\n",
    "\n",
    "- 给出一个函数的定义"
   ]
  },
  {
   "cell_type": "code",
   "execution_count": null,
   "id": "8c9e167a",
   "metadata": {},
   "outputs": [],
   "source": [
    "def double(x):              # Signature\n",
    "    \"\"\" Double x \"\"\"        # Doucumentation (\"docstring\"), Body is as below\n",
    "    return 2 * x            "
   ]
  },
  {
   "cell_type": "markdown",
   "id": "d896f8eb",
   "metadata": {},
   "source": [
    "<!-- ![functionDef](./img/function_definition.jpg) -->\n",
    "\n",
    "- 几个部分\n",
    "    - Signature\n",
    "        - 指定了调用方式, 例如 `double(3)`\n",
    "    - Doucumentation\n",
    "        - Text that describe what the function does\n",
    "        - 通常是 triple-quoted (可以 span 到多行)\n",
    "    - Body\n",
    "    - Indentation\n",
    "        - Each line of code in the body is indented\n",
    "        - 缩进通常是 2 or 4 spaces (spaces 数量一致即可)\n",
    "        - The function's body ends at any unindented line\n",
    "- 上例中 `x` has **local scope**: We can’t refer to x outside the body of `double`"
   ]
  },
  {
   "cell_type": "code",
   "execution_count": null,
   "id": "d3688d0f",
   "metadata": {},
   "outputs": [],
   "source": [
    "double(-.6 / 4)              # call expressions"
   ]
  },
  {
   "cell_type": "code",
   "execution_count": null,
   "id": "66eb24c3",
   "metadata": {},
   "outputs": [],
   "source": [
    "# 惊人的是还可以 double 一个数组\n",
    "from datascience import *\n",
    "double(make_array(3, 4, 5))"
   ]
  },
  {
   "cell_type": "code",
   "execution_count": null,
   "id": "170d9921",
   "metadata": {},
   "outputs": [],
   "source": [
    "# A function with more than one argument\n",
    "def percent(x, total):\n",
    "    \"\"\"Convert x to a percentage of total.\n",
    "    \n",
    "    More precisely, this function divides x by total,\n",
    "    multiplies the result by 100, and rounds the result\n",
    "    to two decimal places.\n",
    "    \n",
    "    >>> percent(4, 16)\n",
    "    25.0\n",
    "    >>> percent(1, 6)\n",
    "    16.67\n",
    "    \"\"\"\n",
    "    return round((x/total)*100, 2)\n",
    "\n",
    "help(percent)  # print 出 docstring 中的内容\n",
    "percent(33, 200)"
   ]
  },
  {
   "cell_type": "code",
   "execution_count": null,
   "id": "bc10ca92",
   "metadata": {},
   "outputs": [],
   "source": [
    "import numpy as np\n",
    "def percents(counts):\n",
    "    \"\"\"Convert the values in array_x to percents out of the total of array_x.\"\"\"\n",
    "    total = counts.sum()\n",
    "    return np.round((counts/total)*100, 2)\n",
    "\n",
    "percents(make_array(7, 4, 10))"
   ]
  },
  {
   "cell_type": "code",
   "execution_count": null,
   "id": "3102947c",
   "metadata": {},
   "outputs": [],
   "source": [
    "def biggest_difference(array_x):\n",
    "    \"\"\"Find the biggest difference in absolute value between two adjacent elements of array_x.\"\"\"\n",
    "    diffs = np.diff(array_x)\n",
    "    absolute_diffs = abs(diffs)\n",
    "    return max(absolute_diffs)\n",
    "\n",
    "some_numbers = make_array(2, 4, 5, 6, 4, -1, 1)\n",
    "big_diff = biggest_difference(some_numbers)\n",
    "print(\"The biggset difference is \", big_diff)"
   ]
  },
  {
   "cell_type": "markdown",
   "id": "a0cf8842",
   "metadata": {},
   "source": [
    "- 润上个 cell, 执行的流程如下\n",
    "    ![function_execution](img/function_execution.jpg)\n",
    "    \n",
    "### 8.0.2 Multiple Arguments\n",
    "\n",
    "- 有参数默认值机制"
   ]
  },
  {
   "cell_type": "code",
   "execution_count": null,
   "id": "0403fddc",
   "metadata": {},
   "outputs": [],
   "source": [
    "def percents(counts, decimal_places):\n",
    "    \"\"\"Convert the values in array_x to percents out of the total of array_x.\"\"\"\n",
    "    total = counts.sum()\n",
    "    return np.round((counts/total)*100, decimal_places)\n",
    "\n",
    "parts = make_array(2, 1, 4)\n",
    "print(\"Rounded to 1 decimal place: \", percents(parts, 1))\n",
    "print(\"Rounded to 2 decimal places:\", percents(parts, 2))\n",
    "print(\"Rounded to 3 decimal places:\", percents(parts, 3))"
   ]
  },
  {
   "cell_type": "code",
   "execution_count": null,
   "id": "9f03523a",
   "metadata": {},
   "outputs": [],
   "source": [
    "# 以下指定第二个参数默认值为 2\n",
    "def percents(counts, decimal_places=2):\n",
    "    \"\"\"Convert the values in array_x to percents out of the total of array_x.\"\"\"\n",
    "    total = counts.sum()\n",
    "    return np.round((counts/total)*100, decimal_places)\n",
    "\n",
    "parts = make_array(2, 1, 4)\n",
    "print(\"Rounded to 1 decimal place:\", percents(parts, 1))\n",
    "print(\"Rounded to the default number of decimal places:\", percents(parts))"
   ]
  },
  {
   "cell_type": "markdown",
   "id": "9586b5f1",
   "metadata": {},
   "source": [
    "---\n",
    "\n",
    "## 8.1 Applying a Function to a Column"
   ]
  },
  {
   "cell_type": "code",
   "execution_count": null,
   "id": "a34f0041",
   "metadata": {},
   "outputs": [],
   "source": [
    "def cut_off_at_100(x):\n",
    "    \"\"\"The Smaller of x and 100\"\"\"\n",
    "    return min(x, 100)\n",
    "\n",
    "ages = Table().with_columns(\n",
    "    'Person', make_array('A', 'B', 'C', 'D', 'E', 'F'),\n",
    "    'Age', make_array(17, 117, 52, 100, 6, 101)\n",
    ")\n",
    "ages"
   ]
  },
  {
   "cell_type": "markdown",
   "id": "fde1b8d6",
   "metadata": {},
   "source": [
    "### 8.1.1 apply\n",
    "\n",
    "- Table method `apply()` 将所定义的函数应用到 table 中的某一列"
   ]
  },
  {
   "cell_type": "code",
   "execution_count": null,
   "id": "978ae70a",
   "metadata": {},
   "outputs": [],
   "source": [
    "ages.apply(cut_off_at_100, 'Age')"
   ]
  },
  {
   "cell_type": "code",
   "execution_count": null,
   "id": "d4c770c0",
   "metadata": {},
   "outputs": [],
   "source": [
    "ages.with_column(\n",
    "    'Cut Off Age', ages.apply(cut_off_at_100, 'Age')\n",
    ")"
   ]
  },
  {
   "cell_type": "markdown",
   "id": "4f220f05",
   "metadata": {},
   "source": [
    "### 8.1.2 Functions as Values\n",
    "\n",
    "- py 中，函数 `cut_off_by_100` 也属于一个 value.\n",
    "    - 并且像其他 value 一样可以赋值"
   ]
  },
  {
   "cell_type": "code",
   "execution_count": null,
   "id": "09c6068b",
   "metadata": {},
   "outputs": [],
   "source": [
    "cut_off_at_100"
   ]
  },
  {
   "cell_type": "code",
   "execution_count": null,
   "id": "4e7dba48",
   "metadata": {},
   "outputs": [],
   "source": [
    "cut_off = cut_off_at_100\n",
    "cut_off"
   ]
  },
  {
   "cell_type": "markdown",
   "id": "ab94afb6",
   "metadata": {},
   "source": [
    "### 8.1.3 Example: Prediction"
   ]
  },
  {
   "cell_type": "code",
   "execution_count": null,
   "id": "d98d6412",
   "metadata": {},
   "outputs": [],
   "source": [
    "family_heights = Table.read_table('family_heights.csv').drop(3)\n",
    "family_heights"
   ]
  },
  {
   "cell_type": "code",
   "execution_count": null,
   "id": "1d84557a",
   "metadata": {},
   "outputs": [],
   "source": [
    "%matplotlib inline\n",
    "import matplotlib.pyplot as plots\n",
    "plots.style.use('fivethirtyeight')\n",
    "\n",
    "parent_average = (family_heights.column('father') + family_heights.column('mother')) / 2\n",
    "heights = Table().with_columns(\n",
    "    'Parent Average', parent_average,\n",
    "    'Child', family_heights.column('childHeight')\n",
    ")\n",
    "heights.show(9)\n",
    "heights.scatter('Parent Average')"
   ]
  },
  {
   "cell_type": "code",
   "execution_count": null,
   "id": "b9f0126b",
   "metadata": {
    "scrolled": false
   },
   "outputs": [],
   "source": [
    "heights.scatter('Parent Average')\n",
    "plots.plot([67.5, 67.5], [50, 85], color='red', lw=2)\n",
    "plots.plot([68.5, 68.5], [50, 85], color='red', lw=2)\n",
    "plots.scatter(68, 67.62, color='gold', s=40); # 加分号则不打印 <matplotlib.collections.PathCollection at 0x7f838e8fe3d0>"
   ]
  },
  {
   "cell_type": "code",
   "execution_count": null,
   "id": "5d3a34d3",
   "metadata": {},
   "outputs": [],
   "source": [
    "close_to_68 = heights.where('Parent Average', are.between(67.5, 68.5))\n",
    "close_to_68.show(9)\n",
    "np.average(close_to_68.column('Child')) # predicted height"
   ]
  },
  {
   "cell_type": "code",
   "execution_count": null,
   "id": "93097104",
   "metadata": {},
   "outputs": [],
   "source": [
    "# 可以给出一个预测升高的函数\n",
    "def predict_child(p_avg):\n",
    "    \"\"\"Predict the height of a child whose parents have a parent average height of p_avg.\n",
    "    \n",
    "    The prediction is the average height of the children whose parent average height is\n",
    "    in the range p_avg plus or minus 0.5.\n",
    "    \"\"\"\n",
    "    close_points = heights.where('Parent Average', are.between(p_avg-.5, p_avg+.5))   # 可以直接访问函数外的 value！\n",
    "    return np.average(close_points.column('Child'))\n",
    "\n",
    "predict_child(68)"
   ]
  },
  {
   "cell_type": "code",
   "execution_count": null,
   "id": "77175e9c",
   "metadata": {},
   "outputs": [],
   "source": [
    "# 将函数 predict_child() 用于表中\n",
    "heights_with_predictions = heights.with_column(\n",
    "    'Prediction', heights.apply(predict_child, 'Parent Average')\n",
    ")\n",
    "heights_with_predictions\n",
    "# 润这个 cell 真慢.."
   ]
  },
  {
   "cell_type": "code",
   "execution_count": null,
   "id": "ff4e0e4d",
   "metadata": {},
   "outputs": [],
   "source": [
    "# 考虑来 draw overlaid scatter plots\n",
    "heights_with_predictions.scatter('Parent Average')"
   ]
  },
  {
   "cell_type": "markdown",
   "id": "39330448",
   "metadata": {},
   "source": [
    "- 称上图中 graph of gold dots 为 **graph of averages**\n",
    "- 可看出结果大致为一条直线，称其为 **regression line**\n"
   ]
  },
  {
   "cell_type": "markdown",
   "id": "e452238e",
   "metadata": {},
   "source": [
    "---\n",
    "\n",
    "## 8.2 Classifying by One Variable\n",
    "\n",
    "### 8.2.1 Counting the Number in Each Category\n",
    "\n",
    "- Table method `group()` 用于计算每个类别的行数（ver. 单个参数）\n",
    "    - The result contains one row per unique value in the grouped column.\n",
    "    - 生成的表的第二列默认 label 为 'count'"
   ]
  },
  {
   "cell_type": "code",
   "execution_count": 83,
   "id": "7f041685",
   "metadata": {},
   "outputs": [
    {
     "data": {
      "text/html": [
       "<table border=\"1\" class=\"dataframe\">\n",
       "    <thead>\n",
       "        <tr>\n",
       "            <th>Flavor</th> <th>Price</th>\n",
       "        </tr>\n",
       "    </thead>\n",
       "    <tbody>\n",
       "        <tr>\n",
       "            <td>strawberry</td> <td>3.55 </td>\n",
       "        </tr>\n",
       "        <tr>\n",
       "            <td>chocolate </td> <td>4.75 </td>\n",
       "        </tr>\n",
       "        <tr>\n",
       "            <td>chocolate </td> <td>6.55 </td>\n",
       "        </tr>\n",
       "        <tr>\n",
       "            <td>strawberry</td> <td>5.25 </td>\n",
       "        </tr>\n",
       "        <tr>\n",
       "            <td>chocolate </td> <td>5.25 </td>\n",
       "        </tr>\n",
       "    </tbody>\n",
       "</table>"
      ],
      "text/plain": [
       "<IPython.core.display.HTML object>"
      ]
     },
     "metadata": {},
     "output_type": "display_data"
    },
    {
     "data": {
      "text/html": [
       "<table border=\"1\" class=\"dataframe\">\n",
       "    <thead>\n",
       "        <tr>\n",
       "            <th>Flavor</th> <th>count</th>\n",
       "        </tr>\n",
       "    </thead>\n",
       "    <tbody>\n",
       "        <tr>\n",
       "            <td>chocolate </td> <td>3    </td>\n",
       "        </tr>\n",
       "        <tr>\n",
       "            <td>strawberry</td> <td>2    </td>\n",
       "        </tr>\n",
       "    </tbody>\n",
       "</table>"
      ],
      "text/plain": [
       "<IPython.core.display.HTML object>"
      ]
     },
     "metadata": {},
     "output_type": "display_data"
    }
   ],
   "source": [
    "cones = Table().with_columns(\n",
    "    'Flavor', make_array('strawberry', 'chocolate', 'chocolate', 'strawberry', 'chocolate'),\n",
    "    'Price', make_array(3.55, 4.75, 6.55, 5.25, 5.25)\n",
    ")\n",
    "cones.show()\n",
    "cones.group('Flavor').show()"
   ]
  },
  {
   "cell_type": "markdown",
   "id": "0a8d0bf6",
   "metadata": {},
   "source": [
    "### 8.2.2 Finding a Characteristic of Each Category\n",
    "\n",
    "- `group()`（ver. 两个参数）\n",
    "    - 第二个参数为一个函数名，用于 aggregate values in other columns for all of those rows\n",
    "    - 生成的新表的列数与原表相同"
   ]
  },
  {
   "cell_type": "code",
   "execution_count": 84,
   "id": "3b93396e",
   "metadata": {},
   "outputs": [
    {
     "data": {
      "text/html": [
       "<table border=\"1\" class=\"dataframe\">\n",
       "    <thead>\n",
       "        <tr>\n",
       "            <th>Flavor</th> <th>Price sum</th>\n",
       "        </tr>\n",
       "    </thead>\n",
       "    <tbody>\n",
       "        <tr>\n",
       "            <td>chocolate </td> <td>16.55    </td>\n",
       "        </tr>\n",
       "        <tr>\n",
       "            <td>strawberry</td> <td>8.8      </td>\n",
       "        </tr>\n",
       "    </tbody>\n",
       "</table>"
      ],
      "text/plain": [
       "<IPython.core.display.HTML object>"
      ]
     },
     "metadata": {},
     "output_type": "display_data"
    },
    {
     "data": {
      "text/html": [
       "<table border=\"1\" class=\"dataframe\">\n",
       "    <thead>\n",
       "        <tr>\n",
       "            <th>Flavor</th> <th>Price max</th>\n",
       "        </tr>\n",
       "    </thead>\n",
       "    <tbody>\n",
       "        <tr>\n",
       "            <td>chocolate </td> <td>6.55     </td>\n",
       "        </tr>\n",
       "        <tr>\n",
       "            <td>strawberry</td> <td>5.25     </td>\n",
       "        </tr>\n",
       "    </tbody>\n",
       "</table>"
      ],
      "text/plain": [
       "<IPython.core.display.HTML object>"
      ]
     },
     "metadata": {},
     "output_type": "display_data"
    },
    {
     "data": {
      "text/html": [
       "<table border=\"1\" class=\"dataframe\">\n",
       "    <thead>\n",
       "        <tr>\n",
       "            <th>Flavor</th> <th>Price len</th>\n",
       "        </tr>\n",
       "    </thead>\n",
       "    <tbody>\n",
       "        <tr>\n",
       "            <td>chocolate </td> <td>3        </td>\n",
       "        </tr>\n",
       "        <tr>\n",
       "            <td>strawberry</td> <td>2        </td>\n",
       "        </tr>\n",
       "    </tbody>\n",
       "</table>"
      ],
      "text/plain": [
       "<IPython.core.display.HTML object>"
      ]
     },
     "metadata": {},
     "output_type": "display_data"
    }
   ],
   "source": [
    "cones.group('Flavor', sum).show()\n",
    "cones.group('Flavor', max).show()\n",
    "cones.group('Flavor', len).show()   # 与一个参数的版本相同 ('Price len' --> 'count')"
   ]
  },
  {
   "cell_type": "code",
   "execution_count": 85,
   "id": "1543f334",
   "metadata": {},
   "outputs": [
    {
     "data": {
      "text/html": [
       "<table border=\"1\" class=\"dataframe\">\n",
       "    <thead>\n",
       "        <tr>\n",
       "            <th>Flavor</th> <th>Array of All the Prices</th> <th>Sum of the Array</th>\n",
       "        </tr>\n",
       "    </thead>\n",
       "    <tbody>\n",
       "        <tr>\n",
       "            <td>chocolate </td> <td>[4.75 6.55 5.25]       </td> <td>16.55           </td>\n",
       "        </tr>\n",
       "        <tr>\n",
       "            <td>strawberry</td> <td>[3.55 5.25]            </td> <td>8.8             </td>\n",
       "        </tr>\n",
       "    </tbody>\n",
       "</table>"
      ],
      "text/plain": [
       "Flavor     | Array of All the Prices | Sum of the Array\n",
       "chocolate  | [4.75 6.55 5.25]        | 16.55\n",
       "strawberry | [3.55 5.25]             | 8.8"
      ]
     },
     "execution_count": 85,
     "metadata": {},
     "output_type": "execute_result"
    }
   ],
   "source": [
    "# 实现一下 group() 所干的事情\n",
    "cones_choc = cones.where('Flavor', are.equal_to('chocolate')).column('Price')\n",
    "cones_strawb = cones.where('Flavor', are.equal_to('strawberry')).column('Price')\n",
    "grouped_cones = Table().with_columns(\n",
    "    'Flavor', make_array('chocolate', 'strawberry'),\n",
    "    'Array of All the Prices', make_array(cones_choc, cones_strawb)\n",
    ")\n",
    "price_totals = grouped_cones.with_column(\n",
    "    'Sum of the Array', make_array(sum(cones_choc), sum(cones_strawb))\n",
    ")\n",
    "price_totals"
   ]
  },
  {
   "cell_type": "markdown",
   "id": "13788edb",
   "metadata": {},
   "source": [
    "### 8.2.3 Example: NBA Saleries"
   ]
  },
  {
   "cell_type": "code",
   "execution_count": null,
   "id": "5320faa4",
   "metadata": {},
   "outputs": [],
   "source": [
    "nba1 = Table.read_table('nba_salaries.csv')\n",
    "nba = nba1.relabeled(\"'15-'16 SALARY\", 'SALARY')\n",
    "nba.show(5)\n",
    "\n",
    "# 1. How much did each team pay for its player's salaries?\n",
    "teams_and_money = nba.select('TEAM', 'SALARY')\n",
    "teams_and_money.group('TEAM', sum).show(5)\n",
    "\n",
    "# 2. How many NBA players were there in each of the five position?\n",
    "nba.group('POSITION').show()\n",
    "\n",
    "# 3. What was the average salary of the players at each of the five positions?\n",
    "position_and_money = nba.select('POSITION', 'SALARY')\n",
    "position_and_money.group('POSITION', np.mean).show()\n",
    "\n",
    "# 在 3 中，如果直接对 nba group(), 则非数字列为空白\n",
    "nba.group('POSITION', np.mean)"
   ]
  },
  {
   "cell_type": "markdown",
   "id": "e37115d9",
   "metadata": {},
   "source": [
    "## 8.3 Cross-Classifying by More than One Variable\n",
    "\n",
    "### 8.3.1 Two Variables: Counting the Number in Each Paired Category\n",
    "\n",
    "- 可以给 `group()` 的第一个参数传入一个 string (label) array / list"
   ]
  },
  {
   "cell_type": "code",
   "execution_count": null,
   "id": "9ca0caf1",
   "metadata": {},
   "outputs": [],
   "source": [
    "more_cones = Table().with_columns(\n",
    "    'Flavor', make_array('strawberry', 'chocolate', 'chocolate', 'strawberry', 'chocolate', 'bubblegum'),\n",
    "    'Color', make_array('pink', 'light brown', 'dark brown', 'pink', 'dark brown', 'pink'),\n",
    "    'Price', make_array(3.55, 4.75, 5.25, 5.25, 5.25, 4.75)\n",
    ")\n",
    "more_cones.show()\n",
    "more_cones.group(['Flavor', 'Color']).show()      # 这里使用了 [], 使用 make_array() 也可以"
   ]
  },
  {
   "cell_type": "markdown",
   "id": "f3c9b466",
   "metadata": {},
   "source": [
    "### 8.3.2 Two Variables: Finding a Characteristic of Each Paired Category\n",
    "\n"
   ]
  },
  {
   "cell_type": "code",
   "execution_count": null,
   "id": "29868766",
   "metadata": {},
   "outputs": [],
   "source": [
    "more_cones.group(['Flavor', 'Color'], sum)"
   ]
  },
  {
   "cell_type": "markdown",
   "id": "9cc39c8f",
   "metadata": {},
   "source": [
    "### 8.3.3 Pivot Tables: Rearranging the Output of group\n",
    "\n",
    "> 数据透视表：重新排列组合的输出\n",
    "\n",
    "- 交叉分类大多仅涉及两个分类变量，此时可在 **pivot table** 显示分类结果\n",
    "- Pivot tables a.k.a **contingency table** (列联表)\n",
    "- 使用 Table method `pivot()` 来作 pivot tables\n",
    "    - 两个参数\n",
    "        - 第一个参数为列 label\n",
    "        - 第二个参数 is the label of a column used for the rows\n",
    "    - 第三个可选参数 `values` indicates a column of values that will replace the counts in each cell of the grid\n",
    "    - 第四个可选参数 `collect` 指定如何将 valuse 聚合显示在单元格中。(传入函数名)"
   ]
  },
  {
   "cell_type": "code",
   "execution_count": null,
   "id": "47343f50",
   "metadata": {},
   "outputs": [],
   "source": [
    "more_cones.pivot('Flavor', 'Color').show()\n",
    "more_cones.pivot('Flavor', 'Color', values='Price', collect=sum)"
   ]
  },
  {
   "cell_type": "markdown",
   "id": "7e1cd670",
   "metadata": {},
   "source": [
    "### 8.3.4 Example: Education and Income of CA Adults"
   ]
  },
  {
   "cell_type": "code",
   "execution_count": null,
   "id": "0f9c2b56",
   "metadata": {},
   "outputs": [],
   "source": [
    "full_table = Table.read_table('educ_inc.csv')\n",
    "ca_2014 = full_table.where('Year', are.equal_to('1/1/14 0:00')).where('Age', are.not_equal_to('00 to 17'))\n",
    "ca_2014.show(9)"
   ]
  },
  {
   "cell_type": "code",
   "execution_count": null,
   "id": "64742f63",
   "metadata": {},
   "outputs": [],
   "source": [
    "# Foucus on just one pair: educational attainment and perosonal income.\n",
    "educ_inc = ca_2014.select('Educational Attainment', 'Personal Income', 'Population Count')\n",
    "educ_inc.show(9)"
   ]
  },
  {
   "cell_type": "code",
   "execution_count": null,
   "id": "023faacf",
   "metadata": {},
   "outputs": [],
   "source": [
    "# 先看 education\n",
    "education = educ_inc.select('Educational Attainment', 'Population Count')\n",
    "educ_totals = education.group('Educational Attainment', sum)\n",
    "educ_totals.show()"
   ]
  },
  {
   "cell_type": "code",
   "execution_count": null,
   "id": "6bbe01b3",
   "metadata": {},
   "outputs": [],
   "source": [
    "# 不妨列出上表的百分比\n",
    "def percents(arr):\n",
    "    return np.round(arr / sum(arr) * 100, 2)\n",
    "\n",
    "educ_distribution = educ_totals.with_column(\n",
    "    'Population Percent', percents(educ_totals.column(1))\n",
    ")\n",
    "educ_distribution.show()"
   ]
  },
  {
   "cell_type": "code",
   "execution_count": null,
   "id": "6a831bd8",
   "metadata": {},
   "outputs": [],
   "source": [
    "# 看教育程度和个人收入交叉分类的列链表\n",
    "totals = educ_inc.pivot('Educational Attainment', 'Personal Income', values='Population Count', collect=sum)\n",
    "totals.show()"
   ]
  },
  {
   "cell_type": "code",
   "execution_count": null,
   "id": "c084ef27",
   "metadata": {},
   "outputs": [],
   "source": [
    "# 考虑将上表表示为百分比\n",
    "distributions = totals.select(0).with_columns(\n",
    "    totals.labels[1], percents(totals.column(1)),\n",
    "    totals.labels[2], percents(totals.column(2)),\n",
    "    totals.labels[3], percents(totals.column(3)),\n",
    "    totals.labels[4], percents(totals.column(4))   \n",
    ")\n",
    "distributions.show()"
   ]
  },
  {
   "cell_type": "markdown",
   "id": "1fb4ade2",
   "metadata": {},
   "source": []
  },
  {
   "cell_type": "code",
   "execution_count": null,
   "id": "5261c6f9",
   "metadata": {},
   "outputs": [],
   "source": [
    "# 看 overlaid bar chart\n",
    "distributions.select(0, 1, 4).barh(0)"
   ]
  },
  {
   "cell_type": "markdown",
   "id": "fb124daa",
   "metadata": {},
   "source": [
    "---\n",
    "\n",
    "## 8.4 Joining Tables by Columns\n",
    "\n",
    "- Table method `join()`，连接两表\n",
    "- 示例：使用 table2 的信息来扩充 table1\n",
    "    ```python\n",
    "    table1.join(table1_column_for_joining, table2, table2_column_for_joining)\n",
    "    ```\n"
   ]
  },
  {
   "cell_type": "code",
   "execution_count": null,
   "id": "42fa971d",
   "metadata": {},
   "outputs": [],
   "source": [
    "cones = Table().with_columns(\n",
    "    'Flavor', make_array('strawberry', 'vanilla', 'chocolate', 'strawberry', 'chocolate'),\n",
    "    'Price', make_array(3.55, 4.75, 6.55, 5.25, 5.75)\n",
    ")\n",
    "cones.show()\n",
    "ratings = Table().with_columns(\n",
    "    'Kind', make_array('strawberry', 'chocolate', 'vanilla'),\n",
    "    'Stars', make_array(2.5, 3.5, 4)\n",
    ")\n",
    "ratings.show()"
   ]
  },
  {
   "cell_type": "code",
   "execution_count": null,
   "id": "63262263",
   "metadata": {},
   "outputs": [],
   "source": [
    "rated = cones.join('Flavor', ratings, 'Kind')\n",
    "rated.show()\n",
    "\n",
    "# 调换两个表的位置，只造成行列的顺序不一样，无根本性的区别\n",
    "ratings.join('Kind', cones, 'Flavor').show()"
   ]
  },
  {
   "cell_type": "markdown",
   "id": "b24a3d8e",
   "metadata": {},
   "source": [
    "- 注意使用 `join()` 的结果只会包含的两表共有的 item"
   ]
  },
  {
   "cell_type": "code",
   "execution_count": null,
   "id": "586da60e",
   "metadata": {},
   "outputs": [],
   "source": [
    "reviews = Table().with_columns(\n",
    "    'Flavor', make_array('vanilla', 'chocolate', 'vanilla', 'chocolate'),\n",
    "    'Stars', make_array(5, 3, 5, 4)\n",
    ")\n",
    "reviews.show()\n",
    "average_reviews = reviews.group('Flavor', np.mean)\n",
    "average_reviews.show()\n",
    "cones.show()\n",
    "\n",
    "# 将 cones 和 average_reviews 合并\n",
    "cones.join('Flavor', average_reviews, 'Flavor')  # 只会包含共有的 chocolate and vanilla"
   ]
  },
  {
   "cell_type": "markdown",
   "id": "bc7a2b8b",
   "metadata": {},
   "source": [
    "## 8.5 Bike Sharing in the Bay Area"
   ]
  },
  {
   "cell_type": "code",
   "execution_count": null,
   "id": "e1458cc3",
   "metadata": {},
   "outputs": [],
   "source": [
    "trips = Table.read_table('trip.csv')\n",
    "trips"
   ]
  },
  {
   "cell_type": "code",
   "execution_count": null,
   "id": "b6ac620a",
   "metadata": {},
   "outputs": [],
   "source": [
    "# 只关注 During 1800s 以下的\n",
    "commute = trips.where('Duration', are.below(1800))\n",
    "commute.hist('Duration', unit='Second')"
   ]
  },
  {
   "cell_type": "code",
   "execution_count": null,
   "id": "4b30a74a",
   "metadata": {},
   "outputs": [],
   "source": [
    "# 可以观察更多细节\n",
    "commute.hist('Duration', bins=60, unit='Second')"
   ]
  },
  {
   "cell_type": "markdown",
   "id": "9b3e8be9",
   "metadata": {},
   "source": [
    "### 8.5.1 Exploring the Data with group() and pivot()"
   ]
  },
  {
   "cell_type": "code",
   "execution_count": null,
   "id": "a578dd97",
   "metadata": {},
   "outputs": [],
   "source": [
    "# 观察使用率最高的 Start station\n",
    "starts = commute.group('Start Station').sort('count', descending=True)\n",
    "starts"
   ]
  },
  {
   "cell_type": "code",
   "execution_count": null,
   "id": "18b648be",
   "metadata": {},
   "outputs": [],
   "source": [
    "# group() 也可以同时按起点站和终点站分类\n",
    "commute.group(['Start Station', 'End Station'])"
   ]
  },
  {
   "cell_type": "code",
   "execution_count": null,
   "id": "043323d0",
   "metadata": {},
   "outputs": [],
   "source": [
    "# 改用透视图\n",
    "commute.pivot('Start Station', 'End Station')"
   ]
  },
  {
   "cell_type": "code",
   "execution_count": null,
   "id": "6d48ae05",
   "metadata": {},
   "outputs": [],
   "source": [
    "# 还可找到起点和终点之间最短的 duration\n",
    "commute.pivot('Start Station', 'End Station', values='Duration', collect=min)"
   ]
  },
  {
   "cell_type": "markdown",
   "id": "1c2850b9",
   "metadata": {},
   "source": [
    "### 8.5.2 Drawing Maps\n",
    "\n",
    "- `Marker.map_table()`\n",
    "- 还可用彩色圈圈代替地图上的点 `Circle.map_tables()`"
   ]
  },
  {
   "cell_type": "code",
   "execution_count": null,
   "id": "45380412",
   "metadata": {},
   "outputs": [],
   "source": [
    "stations = Table.read_table('station.csv')  # 每个 bike station 地理信息\n",
    "stations"
   ]
  },
  {
   "cell_type": "code",
   "execution_count": null,
   "id": "68223a19",
   "metadata": {},
   "outputs": [],
   "source": [
    "Marker.map_table(stations.select('lat', 'long', 'name').relabel('name', 'labels'))"
   ]
  },
  {
   "cell_type": "code",
   "execution_count": null,
   "id": "16bddce6",
   "metadata": {},
   "outputs": [],
   "source": [
    "# 还可用彩色圈圈代替地图上的圈\n",
    "sf = stations.where('landmark', are.equal_to('San Francisco'))\n",
    "sf_map_data = sf.select('lat', 'long', 'name').relabel('name', 'labels')\n",
    "Circle.map_table(sf_map_data, color='green')"
   ]
  },
  {
   "cell_type": "markdown",
   "id": "74216216",
   "metadata": {},
   "source": [
    "### 8.5.3 More Infomation Maps: An Application of join()"
   ]
  },
  {
   "cell_type": "code",
   "execution_count": null,
   "id": "bd320fd7",
   "metadata": {},
   "outputs": [],
   "source": [
    "# 给每个城市配色, 方法是将同一城市 group 起来，让后添加 color label, 再 join 到原表 (stations)\n",
    "cities = stations.group('landmark').relabeled('landmark', 'city')\n",
    "cities.show()\n",
    "colors = cities.with_column(\n",
    "    'color', make_array('blue', 'red', 'green', 'orange', 'purple')\n",
    ")\n",
    "colors.show()"
   ]
  },
  {
   "cell_type": "code",
   "execution_count": null,
   "id": "b0bf87d3",
   "metadata": {},
   "outputs": [],
   "source": [
    "joined = stations.join('landmark', colors, 'city')\n",
    "colored = joined.select('lat', 'long', 'name', 'color').relabel('name', 'labels')\n",
    "Marker.map_table(colored)"
   ]
  },
  {
   "cell_type": "code",
   "execution_count": null,
   "id": "447f0665",
   "metadata": {},
   "outputs": [],
   "source": [
    "# see where most of the bike rentals originate\n",
    "starts = commute.group('Start Station').sort('count', descending=True)\n",
    "starts"
   ]
  },
  {
   "cell_type": "code",
   "execution_count": null,
   "id": "6b2be4b8",
   "metadata": {},
   "outputs": [],
   "source": [
    "# 将 count 添加到表 station\n",
    "station_starts = stations.join('name', starts, 'Start Station')\n",
    "station_starts"
   ]
  },
  {
   "cell_type": "code",
   "execution_count": null,
   "id": "1023c0ae",
   "metadata": {},
   "outputs": [],
   "source": [
    "# 考虑用圈来标记每个站点，圈的大小设置为租赁数 count * 0.3\n",
    "starts_map_data = station_starts.select('lat', 'long', 'name').with_columns(\n",
    "    'colors', 'blue',\n",
    "    'areas', station_starts.column('count') * .2\n",
    ")\n",
    "starts_map_data.show(3)\n",
    "Circle.map_table(starts_map_data.relabel('name', 'labels'))"
   ]
  },
  {
   "cell_type": "markdown",
   "id": "24eb0920",
   "metadata": {},
   "source": []
  }
 ],
 "metadata": {
  "kernelspec": {
   "display_name": "Python 3 (ipykernel)",
   "language": "python",
   "name": "python3"
  },
  "language_info": {
   "codemirror_mode": {
    "name": "ipython",
    "version": 3
   },
   "file_extension": ".py",
   "mimetype": "text/x-python",
   "name": "python",
   "nbconvert_exporter": "python",
   "pygments_lexer": "ipython3",
   "version": "3.9.6"
  },
  "toc": {
   "base_numbering": 1,
   "nav_menu": {},
   "number_sections": false,
   "sideBar": true,
   "skip_h1_title": false,
   "title_cell": "Table of Contents",
   "title_sidebar": "Contents",
   "toc_cell": false,
   "toc_position": {
    "height": "calc(100% - 180px)",
    "left": "10px",
    "top": "150px",
    "width": "223px"
   },
   "toc_section_display": true,
   "toc_window_display": true
  }
 },
 "nbformat": 4,
 "nbformat_minor": 5
}
