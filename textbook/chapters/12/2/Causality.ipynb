{
 "cells": [
  {
   "cell_type": "markdown",
   "metadata": {},
   "source": [
    "### Abstracts\n",
    "\n",
    "- causation\n",
    "- potential outcomes "
   ]
  },
  {
   "cell_type": "code",
   "execution_count": 1,
   "metadata": {
    "tags": [
     "remove-input"
    ]
   },
   "outputs": [],
   "source": [
    "from datascience import *\n",
    "%matplotlib inline\n",
    "path_data = '../../../assets/data/'\n",
    "import matplotlib.pyplot as plots\n",
    "plots.style.use('fivethirtyeight')\n",
    "import numpy as np"
   ]
  },
  {
   "cell_type": "markdown",
   "metadata": {},
   "source": [
    "# Causality"
   ]
  },
  {
   "cell_type": "markdown",
   "metadata": {},
   "source": [
    "Our methods for comparing two samples have a powerful use in the analysis of randomized controlled experiments. Since the treatment and control groups are assigned randomly in such experiements, differences in their outcomes can be compared to what would happen just due to chance if the treatment had no effect at all. If the observed differences are more marked than what we would predict as purely due to chance, we will have evidence of <span class=\"girk\">*causation*.</span> Because of the unbiased assignment of individuals to the treatment and control groups, differences in the outcomes of the two groups can be ascribed to the treatment.\n",
    "\n",
    "The key to the analysis of randomized controlled experiments is understanding exactly how chance enters the picture. This helps us set up clear null and alternative hypotheses. Once that's done, we can simply use the methods of the previous sections to complete the analysis.\n",
    "\n",
    "Let's see how to do this in an example."
   ]
  },
  {
   "cell_type": "markdown",
   "metadata": {},
   "source": [
    "## Treating Chronic Back Pain: A Randomized Controlled Trial\n",
    "Low-back pain in adults can be very persistent and hard to treat. Common methods run the gamut from corticosteroids to acupuncture. A [randomized controlled trial (RCT)](https://www.ncbi.nlm.nih.gov/pubmed/11376175) examined the effect of using Botulinum Toxin A (BTA) as a treatment. Botulinum toxin is a neurotoxic protein that causes the disease botulism; [Wikipedia](https://en.wikipedia.org/wiki/Botulinum_toxin) says that botulinum \"is the most acutely lethal toxin known.\" There are seven types of botulinum toxin. Botulinum Toxin A is one of the types that can cause disease in humans, but it is also used in medicine to treat various diseases involving the muscles. The RCT analyzed by Foster, Clapp, and Jabbari in 2001 examined it as a treatment for low back pain.\n",
    "\n",
    "Thirty one patients with low-back pain were randomized into treatment and control groups, with 15 in the treatment group and 16 in control. The control group was given normal saline, and the trials were run double-blind so that neither doctors nor patients knew which group they were in.\n",
    "\n",
    "Eight weeks after the start of the study, nine of the 15 in the treatment group and two of the 16 in the control group had pain relief (according to a precise definition used by the researchers). These data are in the table `bta` and appear to show that the treatment has a clear benefit."
   ]
  },
  {
   "cell_type": "code",
   "execution_count": 2,
   "metadata": {},
   "outputs": [
    {
     "data": {
      "text/html": [
       "<table border=\"1\" class=\"dataframe\">\n",
       "    <thead>\n",
       "        <tr>\n",
       "            <th>Group</th> <th>Result</th>\n",
       "        </tr>\n",
       "    </thead>\n",
       "    <tbody>\n",
       "        <tr>\n",
       "            <td>Control  </td> <td>1     </td>\n",
       "        </tr>\n",
       "        <tr>\n",
       "            <td>Control  </td> <td>1     </td>\n",
       "        </tr>\n",
       "        <tr>\n",
       "            <td>Control  </td> <td>0     </td>\n",
       "        </tr>\n",
       "        <tr>\n",
       "            <td>Control  </td> <td>0     </td>\n",
       "        </tr>\n",
       "        <tr>\n",
       "            <td>Control  </td> <td>0     </td>\n",
       "        </tr>\n",
       "        <tr>\n",
       "            <td>Control  </td> <td>0     </td>\n",
       "        </tr>\n",
       "        <tr>\n",
       "            <td>Control  </td> <td>0     </td>\n",
       "        </tr>\n",
       "        <tr>\n",
       "            <td>Control  </td> <td>0     </td>\n",
       "        </tr>\n",
       "        <tr>\n",
       "            <td>Control  </td> <td>0     </td>\n",
       "        </tr>\n",
       "        <tr>\n",
       "            <td>Control  </td> <td>0     </td>\n",
       "        </tr>\n",
       "        <tr>\n",
       "            <td>Control  </td> <td>0     </td>\n",
       "        </tr>\n",
       "        <tr>\n",
       "            <td>Control  </td> <td>0     </td>\n",
       "        </tr>\n",
       "        <tr>\n",
       "            <td>Control  </td> <td>0     </td>\n",
       "        </tr>\n",
       "        <tr>\n",
       "            <td>Control  </td> <td>0     </td>\n",
       "        </tr>\n",
       "        <tr>\n",
       "            <td>Control  </td> <td>0     </td>\n",
       "        </tr>\n",
       "        <tr>\n",
       "            <td>Control  </td> <td>0     </td>\n",
       "        </tr>\n",
       "        <tr>\n",
       "            <td>Treatment</td> <td>1     </td>\n",
       "        </tr>\n",
       "        <tr>\n",
       "            <td>Treatment</td> <td>1     </td>\n",
       "        </tr>\n",
       "        <tr>\n",
       "            <td>Treatment</td> <td>1     </td>\n",
       "        </tr>\n",
       "        <tr>\n",
       "            <td>Treatment</td> <td>1     </td>\n",
       "        </tr>\n",
       "        <tr>\n",
       "            <td>Treatment</td> <td>1     </td>\n",
       "        </tr>\n",
       "        <tr>\n",
       "            <td>Treatment</td> <td>1     </td>\n",
       "        </tr>\n",
       "        <tr>\n",
       "            <td>Treatment</td> <td>1     </td>\n",
       "        </tr>\n",
       "        <tr>\n",
       "            <td>Treatment</td> <td>1     </td>\n",
       "        </tr>\n",
       "        <tr>\n",
       "            <td>Treatment</td> <td>1     </td>\n",
       "        </tr>\n",
       "        <tr>\n",
       "            <td>Treatment</td> <td>0     </td>\n",
       "        </tr>\n",
       "        <tr>\n",
       "            <td>Treatment</td> <td>0     </td>\n",
       "        </tr>\n",
       "        <tr>\n",
       "            <td>Treatment</td> <td>0     </td>\n",
       "        </tr>\n",
       "        <tr>\n",
       "            <td>Treatment</td> <td>0     </td>\n",
       "        </tr>\n",
       "        <tr>\n",
       "            <td>Treatment</td> <td>0     </td>\n",
       "        </tr>\n",
       "        <tr>\n",
       "            <td>Treatment</td> <td>0     </td>\n",
       "        </tr>\n",
       "    </tbody>\n",
       "</table>"
      ],
      "text/plain": [
       "<IPython.core.display.HTML object>"
      ]
     },
     "metadata": {},
     "output_type": "display_data"
    }
   ],
   "source": [
    "bta = Table.read_table(path_data + 'bta.csv')\n",
    "bta.show()"
   ]
  },
  {
   "cell_type": "markdown",
   "metadata": {},
   "source": [
    "Let's see how many patients recovered in each group. Remember that counting is the same as adding zeros and ones. The sum of 1's in the control group is the number of control group patients who had pain relief. "
   ]
  },
  {
   "cell_type": "code",
   "execution_count": 3,
   "metadata": {},
   "outputs": [
    {
     "data": {
      "text/html": [
       "<table border=\"1\" class=\"dataframe\">\n",
       "    <thead>\n",
       "        <tr>\n",
       "            <th>Group</th> <th>Result sum</th>\n",
       "        </tr>\n",
       "    </thead>\n",
       "    <tbody>\n",
       "        <tr>\n",
       "            <td>Control  </td> <td>2         </td>\n",
       "        </tr>\n",
       "        <tr>\n",
       "            <td>Treatment</td> <td>9         </td>\n",
       "        </tr>\n",
       "    </tbody>\n",
       "</table>"
      ],
      "text/plain": [
       "Group     | Result sum\n",
       "Control   | 2\n",
       "Treatment | 9"
      ]
     },
     "execution_count": 3,
     "metadata": {},
     "output_type": "execute_result"
    }
   ],
   "source": [
    "bta.group('Group', sum)"
   ]
  },
  {
   "cell_type": "markdown",
   "metadata": {},
   "source": [
    "Since counting is the same as the *sum* of zeros and ones<span class=\"mark\">, the *proportion* of patients who had pain relief is the *average* of zeros and ones.</span> It is the sum divided by the total number of patients in each group."
   ]
  },
  {
   "cell_type": "code",
   "execution_count": 4,
   "metadata": {},
   "outputs": [
    {
     "data": {
      "text/html": [
       "<table border=\"1\" class=\"dataframe\">\n",
       "    <thead>\n",
       "        <tr>\n",
       "            <th>Group</th> <th>Result average</th>\n",
       "        </tr>\n",
       "    </thead>\n",
       "    <tbody>\n",
       "        <tr>\n",
       "            <td>Control  </td> <td>0.125         </td>\n",
       "        </tr>\n",
       "        <tr>\n",
       "            <td>Treatment</td> <td>0.6           </td>\n",
       "        </tr>\n",
       "    </tbody>\n",
       "</table>"
      ],
      "text/plain": [
       "Group     | Result average\n",
       "Control   | 0.125\n",
       "Treatment | 0.6"
      ]
     },
     "execution_count": 4,
     "metadata": {},
     "output_type": "execute_result"
    }
   ],
   "source": [
    "bta.group('Group', np.average)"
   ]
  },
  {
   "cell_type": "markdown",
   "metadata": {},
   "source": [
    "In the treatment group, 60% of the patients had pain relief, compared to only 12.5% in the control group. None of the patients suffered any side effects. \n",
    "\n",
    "So the indications are that botulinum toxin A did better than the saline. But the conclusion isn't yet a slam-dunk. The patients were assigned at random into the two groups, so perhaps the difference could just be due to chance?\n",
    "\n",
    "To understand what this means, we have to consider the possibility that among the 31 patients in the study, some were simply better able to recover than others, even without any help from the treatment. What if an unusually large proportion of such patients got assigned to the treatment group, just by chance? Then even if the treatment did nothing more than the saline in the control group, the results of the treatment group might look better than those of the control group. \n",
    "\n",
    "To account for this possibility, let's start by carefully setting up the chance model."
   ]
  },
  {
   "cell_type": "markdown",
   "metadata": {},
   "source": [
    "## Potential Outcomes\n",
    "Before the patients are randomized into the two groups, our minds instinctively imagine two possible outcomes for each patient: the outcome that the patient would have if assigned to the treatment group, and the outcome that the same patient would have if assigned to the control group. <span class=\"girk\">These are called the two *potential outcomes* of the patient.</span>\n",
    "\n",
    "Thus there are 31 potential treatment outcomes and 31 potential control outcomes. The question is about the distributions of these two sets of 31 outcomes each. Are they the same, or are they different?\n",
    "\n",
    "We can't answer this just yet, because we don't get to see all 31 values in each group. We just get to see a randomly selected 16 of the potential control outcomes, and the treatment outcomes of *the remaining* 15 patients. \n",
    "\n",
    "Here is a good way to visualize the setting. Each patient has a two-sided ticket:\n",
    "\n",
    "![Two-sided ticket](../../../images/causality1.png)"
   ]
  },
  {
   "cell_type": "markdown",
   "metadata": {},
   "source": [
    "After the randomization, we get to see the right half of a randomly selected set of tickets, and the left half of the remaining group.\n",
    "\n",
    "![Half-tickets](../../../images/causality2.png)\n",
    "\n",
    "The table `observed_outcomes` collects the information about every patient's potential outcomes, leaving the unobserved half of each \"ticket\" blank.  (It's just another way of thinking about the `bta` table, carrying the same information.)"
   ]
  },
  {
   "cell_type": "code",
   "execution_count": 5,
   "metadata": {},
   "outputs": [
    {
     "data": {
      "text/html": [
       "<table border=\"1\" class=\"dataframe\">\n",
       "    <thead>\n",
       "        <tr>\n",
       "            <th>Group</th> <th>Outcome if assigned treatment</th> <th>Outcome if assigned control</th>\n",
       "        </tr>\n",
       "    </thead>\n",
       "    <tbody>\n",
       "        <tr>\n",
       "            <td>Control  </td> <td>Unknown                      </td> <td>1                          </td>\n",
       "        </tr>\n",
       "        <tr>\n",
       "            <td>Control  </td> <td>Unknown                      </td> <td>1                          </td>\n",
       "        </tr>\n",
       "        <tr>\n",
       "            <td>Control  </td> <td>Unknown                      </td> <td>0                          </td>\n",
       "        </tr>\n",
       "        <tr>\n",
       "            <td>Control  </td> <td>Unknown                      </td> <td>0                          </td>\n",
       "        </tr>\n",
       "        <tr>\n",
       "            <td>Control  </td> <td>Unknown                      </td> <td>0                          </td>\n",
       "        </tr>\n",
       "        <tr>\n",
       "            <td>Control  </td> <td>Unknown                      </td> <td>0                          </td>\n",
       "        </tr>\n",
       "        <tr>\n",
       "            <td>Control  </td> <td>Unknown                      </td> <td>0                          </td>\n",
       "        </tr>\n",
       "        <tr>\n",
       "            <td>Control  </td> <td>Unknown                      </td> <td>0                          </td>\n",
       "        </tr>\n",
       "        <tr>\n",
       "            <td>Control  </td> <td>Unknown                      </td> <td>0                          </td>\n",
       "        </tr>\n",
       "        <tr>\n",
       "            <td>Control  </td> <td>Unknown                      </td> <td>0                          </td>\n",
       "        </tr>\n",
       "        <tr>\n",
       "            <td>Control  </td> <td>Unknown                      </td> <td>0                          </td>\n",
       "        </tr>\n",
       "        <tr>\n",
       "            <td>Control  </td> <td>Unknown                      </td> <td>0                          </td>\n",
       "        </tr>\n",
       "        <tr>\n",
       "            <td>Control  </td> <td>Unknown                      </td> <td>0                          </td>\n",
       "        </tr>\n",
       "        <tr>\n",
       "            <td>Control  </td> <td>Unknown                      </td> <td>0                          </td>\n",
       "        </tr>\n",
       "        <tr>\n",
       "            <td>Control  </td> <td>Unknown                      </td> <td>0                          </td>\n",
       "        </tr>\n",
       "        <tr>\n",
       "            <td>Control  </td> <td>Unknown                      </td> <td>0                          </td>\n",
       "        </tr>\n",
       "        <tr>\n",
       "            <td>Treatment</td> <td>1                            </td> <td>Unknown                    </td>\n",
       "        </tr>\n",
       "        <tr>\n",
       "            <td>Treatment</td> <td>1                            </td> <td>Unknown                    </td>\n",
       "        </tr>\n",
       "        <tr>\n",
       "            <td>Treatment</td> <td>1                            </td> <td>Unknown                    </td>\n",
       "        </tr>\n",
       "        <tr>\n",
       "            <td>Treatment</td> <td>1                            </td> <td>Unknown                    </td>\n",
       "        </tr>\n",
       "        <tr>\n",
       "            <td>Treatment</td> <td>1                            </td> <td>Unknown                    </td>\n",
       "        </tr>\n",
       "        <tr>\n",
       "            <td>Treatment</td> <td>1                            </td> <td>Unknown                    </td>\n",
       "        </tr>\n",
       "        <tr>\n",
       "            <td>Treatment</td> <td>1                            </td> <td>Unknown                    </td>\n",
       "        </tr>\n",
       "        <tr>\n",
       "            <td>Treatment</td> <td>1                            </td> <td>Unknown                    </td>\n",
       "        </tr>\n",
       "        <tr>\n",
       "            <td>Treatment</td> <td>1                            </td> <td>Unknown                    </td>\n",
       "        </tr>\n",
       "        <tr>\n",
       "            <td>Treatment</td> <td>0                            </td> <td>Unknown                    </td>\n",
       "        </tr>\n",
       "        <tr>\n",
       "            <td>Treatment</td> <td>0                            </td> <td>Unknown                    </td>\n",
       "        </tr>\n",
       "        <tr>\n",
       "            <td>Treatment</td> <td>0                            </td> <td>Unknown                    </td>\n",
       "        </tr>\n",
       "        <tr>\n",
       "            <td>Treatment</td> <td>0                            </td> <td>Unknown                    </td>\n",
       "        </tr>\n",
       "        <tr>\n",
       "            <td>Treatment</td> <td>0                            </td> <td>Unknown                    </td>\n",
       "        </tr>\n",
       "        <tr>\n",
       "            <td>Treatment</td> <td>0                            </td> <td>Unknown                    </td>\n",
       "        </tr>\n",
       "    </tbody>\n",
       "</table>"
      ],
      "text/plain": [
       "<IPython.core.display.HTML object>"
      ]
     },
     "metadata": {},
     "output_type": "display_data"
    }
   ],
   "source": [
    "observed_outcomes = Table.read_table(path_data + \"observed_outcomes.csv\")\n",
    "observed_outcomes.show()"
   ]
  },
  {
   "cell_type": "markdown",
   "metadata": {},
   "source": [
    "## The Hypotheses\n",
    "The question is whether the treatment does anything. In terms of the table `observed_outcomes`, the question is whether the distribution of the 31 \"treatment\" values in Column 1  (including the unknown ones) is different from the distribution of the 31 \"control\" values in Column 2 (again including the unknown ones).\n",
    "\n",
    "<span class=\"mark\">**Null Hypothesis:** The distribution of all 31 potential \"treatment\" outcomes is the same as that of all 31 potential \"control\" outcomes. Botulinum toxin A does nothing different from saline; the difference in the two samples is just due to chance.</span>\n",
    "\n",
    "**Alternative Hypothesis:** The distribution of 31 potential \"treatment\" outcomes is different from that of the 31 control outcomes. The treatment does something different from the control.\n",
    "\n",
    "Notice that the alternative is not specifying that the treatment helps – just that it is different from the control. This is standard in medical studies because it doesn't pre-judge which way the result might go. But you are welcome to run a test for whether the treatment does better than the control. Just adjust your test statistic accordingly.\n",
    "\n",
    "There are 31 observed outcomes jointly in the two groups. If the null hypothesis were true, it wouldn't matter which of those 31 outcomes were labeled \"treatment\" and which \"control.\" Any random subset of 16 out of the 31 values could be called \"control\" and the remaining 15 \"treatment\".\n",
    "\n",
    "We can simulate this. We can randomly permute the 31 values, <span class=\"mark\">split them into two groups of 16 and 15, and see how different the distributions in the two groups are.</span> Since the data are zeros and ones, we can just see how different the two proportions are. \n",
    "\n",
    "That's exactly what we did for A/B testing in the previous section. Sample A is now the control group and Sample B the treatment group. We will carry out the test below showing the details of all the steps. You should confirm that they are the same as the steps carried out for A/B testing.\n",
    "\n",
    "## The Test Statistic\n",
    "If the two group proportions are very different from each other, we will lean towards the alternative hypothesis that the two underlying distributions are different. So <span class=\"mark\">our test statistic will be the distance between the two group proportions, that is, the absolute value of the difference between them.</span>\n",
    "\n",
    "Large values of the test statistic will favor the alternative hypothesis over the null.\n",
    "\n",
    "Since the two group proportions were 0.6 and 0.125, the observed value of the test statistic is $\\big{\\vert} 0.6 - 0.125 \\big{\\vert} = 0.475$. "
   ]
  },
  {
   "cell_type": "code",
   "execution_count": 6,
   "metadata": {},
   "outputs": [
    {
     "data": {
      "text/html": [
       "<table border=\"1\" class=\"dataframe\">\n",
       "    <thead>\n",
       "        <tr>\n",
       "            <th>Group</th> <th>Result average</th>\n",
       "        </tr>\n",
       "    </thead>\n",
       "    <tbody>\n",
       "        <tr>\n",
       "            <td>Control  </td> <td>0.125         </td>\n",
       "        </tr>\n",
       "        <tr>\n",
       "            <td>Treatment</td> <td>0.6           </td>\n",
       "        </tr>\n",
       "    </tbody>\n",
       "</table>"
      ],
      "text/plain": [
       "Group     | Result average\n",
       "Control   | 0.125\n",
       "Treatment | 0.6"
      ]
     },
     "execution_count": 6,
     "metadata": {},
     "output_type": "execute_result"
    }
   ],
   "source": [
    "bta.group('Group', np.average)"
   ]
  },
  {
   "cell_type": "code",
   "execution_count": 7,
   "metadata": {},
   "outputs": [
    {
     "data": {
      "text/plain": [
       "0.475"
      ]
     },
     "execution_count": 7,
     "metadata": {},
     "output_type": "execute_result"
    }
   ],
   "source": [
    "observed_proportions = bta.group('Group', np.average).column(1)\n",
    "observed_distance = abs(observed_proportions.item(0) - observed_proportions.item(1))\n",
    "observed_distance"
   ]
  },
  {
   "cell_type": "markdown",
   "metadata": {},
   "source": [
    "As we have done before, we will define a function that takes the following two arguments:\n",
    "\n",
    "- the name of the table of data\n",
    "- the column label of the group labels\n",
    "\n",
    "and returns the distance between the two group proportions."
   ]
  },
  {
   "cell_type": "code",
   "execution_count": 8,
   "metadata": {},
   "outputs": [],
   "source": [
    "def distance(table, group_label):\n",
    "    reduced = table.select('Result', group_label)\n",
    "    proportions = reduced.group(group_label, np.average).column(1)\n",
    "    return abs(proportions.item(1) - proportions.item(0))"
   ]
  },
  {
   "cell_type": "code",
   "execution_count": 9,
   "metadata": {},
   "outputs": [
    {
     "data": {
      "text/plain": [
       "0.475"
      ]
     },
     "execution_count": 9,
     "metadata": {},
     "output_type": "execute_result"
    }
   ],
   "source": [
    "distance(bta, 'Group')"
   ]
  },
  {
   "cell_type": "markdown",
   "metadata": {},
   "source": [
    "## Predicting the Statistic Under the Null Hypothesis\n",
    "We can simulate results under the null hypothesis, to see how our test statistic should come out if the null hypothesis is true.\n",
    "\n",
    "### Generating One Value of the Statistic\n",
    "The simulation follows exactly the same process we used in the previous section. We start by randomly permuting the all group labels and then attaching the shuffled labels to the 0/1 results."
   ]
  },
  {
   "cell_type": "code",
   "execution_count": 10,
   "metadata": {},
   "outputs": [],
   "source": [
    "shuffled_labels = bta.sample(with_replacement=False).column(0)"
   ]
  },
  {
   "cell_type": "code",
   "execution_count": 11,
   "metadata": {},
   "outputs": [
    {
     "data": {
      "text/html": [
       "<table border=\"1\" class=\"dataframe\">\n",
       "    <thead>\n",
       "        <tr>\n",
       "            <th>Group</th> <th>Result</th> <th>Shuffled Label</th>\n",
       "        </tr>\n",
       "    </thead>\n",
       "    <tbody>\n",
       "        <tr>\n",
       "            <td>Control  </td> <td>1     </td> <td>Control       </td>\n",
       "        </tr>\n",
       "        <tr>\n",
       "            <td>Control  </td> <td>1     </td> <td>Treatment     </td>\n",
       "        </tr>\n",
       "        <tr>\n",
       "            <td>Control  </td> <td>0     </td> <td>Control       </td>\n",
       "        </tr>\n",
       "        <tr>\n",
       "            <td>Control  </td> <td>0     </td> <td>Treatment     </td>\n",
       "        </tr>\n",
       "        <tr>\n",
       "            <td>Control  </td> <td>0     </td> <td>Control       </td>\n",
       "        </tr>\n",
       "        <tr>\n",
       "            <td>Control  </td> <td>0     </td> <td>Treatment     </td>\n",
       "        </tr>\n",
       "        <tr>\n",
       "            <td>Control  </td> <td>0     </td> <td>Control       </td>\n",
       "        </tr>\n",
       "        <tr>\n",
       "            <td>Control  </td> <td>0     </td> <td>Treatment     </td>\n",
       "        </tr>\n",
       "        <tr>\n",
       "            <td>Control  </td> <td>0     </td> <td>Control       </td>\n",
       "        </tr>\n",
       "        <tr>\n",
       "            <td>Control  </td> <td>0     </td> <td>Control       </td>\n",
       "        </tr>\n",
       "        <tr>\n",
       "            <td>Control  </td> <td>0     </td> <td>Control       </td>\n",
       "        </tr>\n",
       "        <tr>\n",
       "            <td>Control  </td> <td>0     </td> <td>Control       </td>\n",
       "        </tr>\n",
       "        <tr>\n",
       "            <td>Control  </td> <td>0     </td> <td>Control       </td>\n",
       "        </tr>\n",
       "        <tr>\n",
       "            <td>Control  </td> <td>0     </td> <td>Treatment     </td>\n",
       "        </tr>\n",
       "        <tr>\n",
       "            <td>Control  </td> <td>0     </td> <td>Control       </td>\n",
       "        </tr>\n",
       "        <tr>\n",
       "            <td>Control  </td> <td>0     </td> <td>Treatment     </td>\n",
       "        </tr>\n",
       "        <tr>\n",
       "            <td>Treatment</td> <td>1     </td> <td>Control       </td>\n",
       "        </tr>\n",
       "        <tr>\n",
       "            <td>Treatment</td> <td>1     </td> <td>Treatment     </td>\n",
       "        </tr>\n",
       "        <tr>\n",
       "            <td>Treatment</td> <td>1     </td> <td>Treatment     </td>\n",
       "        </tr>\n",
       "        <tr>\n",
       "            <td>Treatment</td> <td>1     </td> <td>Treatment     </td>\n",
       "        </tr>\n",
       "        <tr>\n",
       "            <td>Treatment</td> <td>1     </td> <td>Treatment     </td>\n",
       "        </tr>\n",
       "        <tr>\n",
       "            <td>Treatment</td> <td>1     </td> <td>Control       </td>\n",
       "        </tr>\n",
       "        <tr>\n",
       "            <td>Treatment</td> <td>1     </td> <td>Control       </td>\n",
       "        </tr>\n",
       "        <tr>\n",
       "            <td>Treatment</td> <td>1     </td> <td>Control       </td>\n",
       "        </tr>\n",
       "        <tr>\n",
       "            <td>Treatment</td> <td>1     </td> <td>Treatment     </td>\n",
       "        </tr>\n",
       "        <tr>\n",
       "            <td>Treatment</td> <td>0     </td> <td>Treatment     </td>\n",
       "        </tr>\n",
       "        <tr>\n",
       "            <td>Treatment</td> <td>0     </td> <td>Control       </td>\n",
       "        </tr>\n",
       "        <tr>\n",
       "            <td>Treatment</td> <td>0     </td> <td>Treatment     </td>\n",
       "        </tr>\n",
       "        <tr>\n",
       "            <td>Treatment</td> <td>0     </td> <td>Control       </td>\n",
       "        </tr>\n",
       "        <tr>\n",
       "            <td>Treatment</td> <td>0     </td> <td>Treatment     </td>\n",
       "        </tr>\n",
       "        <tr>\n",
       "            <td>Treatment</td> <td>0     </td> <td>Treatment     </td>\n",
       "        </tr>\n",
       "    </tbody>\n",
       "</table>"
      ],
      "text/plain": [
       "<IPython.core.display.HTML object>"
      ]
     },
     "metadata": {},
     "output_type": "display_data"
    }
   ],
   "source": [
    "bta_with_shuffled_labels = bta.with_column('Shuffled Label', shuffled_labels)\n",
    "bta_with_shuffled_labels.show()"
   ]
  },
  {
   "cell_type": "markdown",
   "metadata": {},
   "source": [
    "We can now find the distance between the two proportions after the group labels have been shuffled."
   ]
  },
  {
   "cell_type": "code",
   "execution_count": 12,
   "metadata": {},
   "outputs": [
    {
     "data": {
      "text/plain": [
       "0.08750000000000002"
      ]
     },
     "execution_count": 12,
     "metadata": {},
     "output_type": "execute_result"
    }
   ],
   "source": [
    "distance(bta_with_shuffled_labels, 'Shuffled Label')"
   ]
  },
  {
   "cell_type": "markdown",
   "metadata": {},
   "source": [
    "This is quite different from the distance between the two original proportions."
   ]
  },
  {
   "cell_type": "code",
   "execution_count": 13,
   "metadata": {},
   "outputs": [
    {
     "data": {
      "text/plain": [
       "0.475"
      ]
     },
     "execution_count": 13,
     "metadata": {},
     "output_type": "execute_result"
    }
   ],
   "source": [
    "distance(bta_with_shuffled_labels, 'Group')"
   ]
  },
  {
   "cell_type": "markdown",
   "metadata": {},
   "source": [
    "### Permutation Test\n",
    "If we shuffled the labels again, how different would the new distance be? To answer this, we will define a function that simulates one simulated value of the distance under the hypothesis of random draws from the same underlying distribution. And then we will collect 20,000 such simulated values in an array.\n",
    "\n",
    "You can see that we are doing exactly what we did in our previous examples of the permutation test. "
   ]
  },
  {
   "cell_type": "code",
   "execution_count": 14,
   "metadata": {},
   "outputs": [],
   "source": [
    "def one_simulated_distance():\n",
    "    shuffled_labels = bta.sample(with_replacement = False\n",
    "                                                    ).column('Group')\n",
    "    shuffled_table = bta.select('Result').with_column(\n",
    "        'Shuffled Label', shuffled_labels)\n",
    "    return distance(shuffled_table, 'Shuffled Label') "
   ]
  },
  {
   "cell_type": "code",
   "execution_count": 15,
   "metadata": {},
   "outputs": [],
   "source": [
    "distances = make_array()\n",
    "\n",
    "repetitions = 20000\n",
    "for i in np.arange(repetitions):\n",
    "    new_distance = one_simulated_distance()\n",
    "    distances = np.append(distances, new_distance)"
   ]
  },
  {
   "cell_type": "markdown",
   "metadata": {},
   "source": [
    "## Conclusion of the Test\n",
    "The array `distances` contains 20,000 values of our test statistic simulated under the null hypothesis. Here is their empirical histogram along with the observed value of the statistic. To find the P-value of the test, remember that large values of the distance favor the alternative hypothesis. "
   ]
  },
  {
   "cell_type": "code",
   "execution_count": 16,
   "metadata": {},
   "outputs": [
    {
     "name": "stdout",
     "output_type": "stream",
     "text": [
      "Observed Distance 0.475\n"
     ]
    },
    {
     "data": {
      "image/png": "[encoded data removed]",
      "text/plain": [
       "<Figure size 432x288 with 1 Axes>"
      ]
     },
     "metadata": {},
     "output_type": "display_data"
    }
   ],
   "source": [
    "Table().with_column('Distance', distances).hist(\n",
    "    bins = np.arange(0, 0.7, 0.1), left_end = observed_distance)           # hist() 参数: left_end\n",
    "# Plotting parameters; you can ignore the code below\n",
    "plots.ylim(-0.1, 5.5)\n",
    "plots.scatter(observed_distance, 0, color='red', s=40, zorder=3)\n",
    "plots.title('Prediction Under the Null Hypothesis')\n",
    "print('Observed Distance', observed_distance)"
   ]
  },
  {
   "cell_type": "markdown",
   "metadata": {},
   "source": [
    "To find the empirical p-value numerically, we must find the proportion of simulated statistics that were equal to or larger than the observed statistic."
   ]
  },
  {
   "cell_type": "code",
   "execution_count": 17,
   "metadata": {},
   "outputs": [
    {
     "data": {
      "text/plain": [
       "0.00815"
      ]
     },
     "execution_count": 17,
     "metadata": {},
     "output_type": "execute_result"
    }
   ],
   "source": [
    "empirical_p = np.count_nonzero(distances >= observed_distance) / repetitions\n",
    "empirical_p"
   ]
  },
  {
   "cell_type": "markdown",
   "metadata": {},
   "source": [
    "This is a small p-value. The observed statistic is in the tail of the empirical histogram of the test statistic generated under the null hypothesis.\n",
    "\n",
    "The result is statistically significant. The test favors the alternative hypothesis over the null. The evidence supports the hypothesis that the treatment is doing something.\n",
    "\n",
    "The study reports a P-value of 0.009, or 0.9%, which is not far from our empirical value. "
   ]
  },
  {
   "cell_type": "markdown",
   "metadata": {},
   "source": [
    "## Causality\n",
    "Because the trials were randomized, the test is evidence that the treatment *causes* the difference. The random assignment of patients to the two groups ensures that there is no confounding variable that could affect the conclusion of causality.\n",
    "\n",
    "If the treatment had not been randomly assigned, our test would still point toward an *association* between the treatment and back pain outcomes among our 31 patients.  But beware: without randomization, this association would not imply that the treatment caused a change in back pain outcomes.  For example, if the patients themselves had chosen whether to administer the treatment, perhaps the patients experiencing more pain would be more likely to choose the treatment *and* more likely to experience some reduction in pain even without medication.  Pre-existing pain would then be a *confounding factor* in the analysis."
   ]
  },
  {
   "cell_type": "markdown",
   "metadata": {},
   "source": [
    "## A Meta-Analysis\n",
    "\n",
    "While the RCT does provide evidence that the botulinum toxin A treatment helped patients, a study of 31 patients isn't enough to establish the effectiveness of a medical treatment. This is not just because of the small sample size.  Our results in this section are valid for the 31 patients in the study, but we are really interested in the population of *all possible patients*.\n",
    "\n",
    "In 2011, a group of researchers performed a [meta-analysis](https://www.ncbi.nlm.nih.gov/pubmed/21249702) of the studies on the treatment. That is, they identified all the available studies of such treatments for low-back pain and summarized the collated results. \n",
    "\n",
    "There were several studies but not many could be included in a scientifically sound manner: \"We excluded evidence from nineteen studies due to non-randomisation, incomplete or unpublished data.\" Only three randomized controlled trials remained, one of which is the one we have studied in this section. The meta-analysis gave it the highest assessment among all the studies (LBP stands for low-back pain): \"We identified three studies that investigated the merits of BoNT for LBP, but only one had a low risk of bias and evaluated patients with non-specific LBP (N = 31).\" \n",
    "\n",
    "Putting it all together, the meta-analysis concluded, \"There is low quality evidence that BoNT injections improved pain, function, or both better than saline injections and very low quality evidence that they were better than acupuncture or steroid injections. ...  Further research is very likely to have an important impact on the estimate of effect and our confidence in it. Future trials should standardize patient populations, treatment protocols and comparison groups, enlist more participants and include long-term outcomes, cost-benefit analysis and clinical relevance of findings.\"\n",
    "\n",
    "It takes a lot of careful work to establish that a medical treatment has a beneficial effect. Knowing how to analyze randomized controlled trials is a crucial part of this work. Now that you know how to do that, you are well positioned to help medical and other professions establish cause-and-effect relations."
   ]
  },
  {
   "cell_type": "code",
   "execution_count": null,
   "metadata": {},
   "outputs": [],
   "source": []
  }
 ],
 "metadata": {
  "anaconda-cloud": {},
  "kernelspec": {
   "display_name": "Python 3 (ipykernel)",
   "language": "python",
   "name": "python3"
  },
  "language_info": {
   "codemirror_mode": {
    "name": "ipython",
    "version": 3
   },
   "file_extension": ".py",
   "mimetype": "text/x-python",
   "name": "python",
   "nbconvert_exporter": "python",
   "pygments_lexer": "ipython3",
   "version": "3.9.6"
  },
  "toc": {
   "base_numbering": 1,
   "nav_menu": {},
   "number_sections": true,
   "sideBar": true,
   "skip_h1_title": false,
   "title_cell": "Table of Contents",
   "title_sidebar": "Contents",
   "toc_cell": false,
   "toc_position": {},
   "toc_section_display": true,
   "toc_window_display": true
  }
 },
 "nbformat": 4,
 "nbformat_minor": 2
}
